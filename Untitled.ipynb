{
 "cells": [
  {
   "cell_type": "code",
   "execution_count": 11,
   "metadata": {
    "collapsed": false
   },
   "outputs": [
    {
     "name": "stderr",
     "output_type": "stream",
     "text": [
      "WARNING: replacing module _mimi_implementation_co2forcing\n",
      "WARNING: replacing module _mimi_implementation_ClimateTemperature\n"
     ]
    },
    {
     "ename": "LoadError",
     "evalue": "LoadError: LoadError: KeyError: c_co2concentration not found\nwhile loading /Users/ceciliaspringer/Documents/Berkeley/Anthoff Lab/mimi-page.jl/src/main_model.jl, in expression starting on line 21\nwhile loading In[11], in expression starting on line 1",
     "output_type": "error",
     "traceback": [
      "LoadError: LoadError: KeyError: c_co2concentration not found\nwhile loading /Users/ceciliaspringer/Documents/Berkeley/Anthoff Lab/mimi-page.jl/src/main_model.jl, in expression starting on line 21\nwhile loading In[11], in expression starting on line 1",
      "",
      " in connectparameter at /Users/ceciliaspringer/.julia/v0.4/Mimi/src/Mimi.jl:242",
      " in setleftoverparameters at /Users/ceciliaspringer/.julia/v0.4/Mimi/src/Mimi.jl:321",
      " in include at /Applications/Julia-0.4.5.app/Contents/Resources/julia/lib/julia/sys.dylib",
      " in include_from_node1 at /Applications/Julia-0.4.5.app/Contents/Resources/julia/lib/julia/sys.dylib"
     ]
    }
   ],
   "source": [
    "include(\"src/main_model.jl\")"
   ]
  },
  {
   "cell_type": "code",
   "execution_count": 9,
   "metadata": {
    "collapsed": false
   },
   "outputs": [
    {
     "data": {
      "text/plain": [
       "\"/Users/ceciliaspringer/Documents/Berkeley/Anthoff Lab/mimi-page.jl\""
      ]
     },
     "execution_count": 9,
     "metadata": {},
     "output_type": "execute_result"
    }
   ],
   "source": [
    "pwd()"
   ]
  },
  {
   "cell_type": "code",
   "execution_count": null,
   "metadata": {
    "collapsed": true
   },
   "outputs": [],
   "source": []
  }
 ],
 "metadata": {
  "kernelspec": {
   "display_name": "Julia 0.4.5",
   "language": "julia",
   "name": "julia-0.4"
  },
  "language_info": {
   "file_extension": ".jl",
   "mimetype": "application/julia",
   "name": "julia",
   "version": "0.4.5"
  }
 },
 "nbformat": 4,
 "nbformat_minor": 0
}
