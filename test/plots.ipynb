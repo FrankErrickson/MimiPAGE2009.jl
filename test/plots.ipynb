using Mimi
using RCall
include("../src/main_model.jl")
m[:climatetemperature, :rt_g_globaltemperature]
R"library(ggplot2)"
R"ggplot($(m:[climatetemperature]), aes(x= $(m[:rt_g_globaltemperature])) + geom_line())"
