{
 "cells": [
  {
   "cell_type": "markdown",
   "metadata": {},
   "source": [
    "# Comparing to RCP 8.5\n",
    "\n",
    "RCP 8.5 is the CMIP5 high emissions scenario, defined by the radiative forcing.  Since it represents a kind of \"business as usual\" scenario outside of PAGE, it provides a reasonable comparison case for the radiative forcings produced by PAGE."
   ]
  },
  {
   "cell_type": "code",
   "execution_count": 10,
   "metadata": {},
   "outputs": [],
   "source": [
    "using DataFrames, CSVFiles, Query, VegaLite"
   ]
  },
  {
   "cell_type": "code",
   "execution_count": 2,
   "metadata": {
    "collapsed": true
   },
   "outputs": [],
   "source": [
    "# Run the model\n",
    "include(\"../src/main_model.jl\")"
   ]
  },
  {
   "cell_type": "code",
   "execution_count": 6,
   "metadata": {},
   "outputs": [
    {
     "data": {
      "text/html": [
       "<table class=\"data-frame\"><thead><tr><th></th><th>model</th><th>year</th><th>variable</th><th>value</th></tr></thead><tbody><tr><th>1</th><td>RCP 8.5</td><td>1765-01-01</td><td>CO2_RF</td><td>0.0</td></tr><tr><th>2</th><td>RCP 8.5</td><td>1766-01-01</td><td>CO2_RF</td><td>0.0110491</td></tr><tr><th>3</th><td>RCP 8.5</td><td>1767-01-01</td><td>CO2_RF</td><td>0.023246</td></tr><tr><th>4</th><td>RCP 8.5</td><td>1768-01-01</td><td>CO2_RF</td><td>0.0256052</td></tr><tr><th>5</th><td>RCP 8.5</td><td>1769-01-01</td><td>CO2_RF</td><td>0.028057</td></tr><tr><th>6</th><td>RCP 8.5</td><td>1770-01-01</td><td>CO2_RF</td><td>0.0305529</td></tr><tr><th>7</th><td>RCP 8.5</td><td>1771-01-01</td><td>CO2_RF</td><td>0.0330936</td></tr><tr><th>8</th><td>RCP 8.5</td><td>1772-01-01</td><td>CO2_RF</td><td>0.0357058</td></tr><tr><th>9</th><td>RCP 8.5</td><td>1773-01-01</td><td>CO2_RF</td><td>0.0383971</td></tr><tr><th>10</th><td>RCP 8.5</td><td>1774-01-01</td><td>CO2_RF</td><td>0.0411609</td></tr><tr><th>11</th><td>RCP 8.5</td><td>1775-01-01</td><td>CO2_RF</td><td>0.0440096</td></tr><tr><th>12</th><td>RCP 8.5</td><td>1776-01-01</td><td>CO2_RF</td><td>0.0469792</td></tr><tr><th>13</th><td>RCP 8.5</td><td>1777-01-01</td><td>CO2_RF</td><td>0.0500673</td></tr><tr><th>14</th><td>RCP 8.5</td><td>1778-01-01</td><td>CO2_RF</td><td>0.0532026</td></tr><tr><th>15</th><td>RCP 8.5</td><td>1779-01-01</td><td>CO2_RF</td><td>0.0562871</td></tr><tr><th>16</th><td>RCP 8.5</td><td>1780-01-01</td><td>CO2_RF</td><td>0.0592345</td></tr><tr><th>17</th><td>RCP 8.5</td><td>1781-01-01</td><td>CO2_RF</td><td>0.0620123</td></tr><tr><th>18</th><td>RCP 8.5</td><td>1782-01-01</td><td>CO2_RF</td><td>0.0646641</td></tr><tr><th>19</th><td>RCP 8.5</td><td>1783-01-01</td><td>CO2_RF</td><td>0.0672719</td></tr><tr><th>20</th><td>RCP 8.5</td><td>1784-01-01</td><td>CO2_RF</td><td>0.0699211</td></tr><tr><th>21</th><td>RCP 8.5</td><td>1785-01-01</td><td>CO2_RF</td><td>0.0726933</td></tr><tr><th>22</th><td>RCP 8.5</td><td>1786-01-01</td><td>CO2_RF</td><td>0.0756317</td></tr><tr><th>23</th><td>RCP 8.5</td><td>1787-01-01</td><td>CO2_RF</td><td>0.0787033</td></tr><tr><th>24</th><td>RCP 8.5</td><td>1788-01-01</td><td>CO2_RF</td><td>0.0818218</td></tr><tr><th>25</th><td>RCP 8.5</td><td>1789-01-01</td><td>CO2_RF</td><td>0.0848899</td></tr><tr><th>26</th><td>RCP 8.5</td><td>1790-01-01</td><td>CO2_RF</td><td>0.0878369</td></tr><tr><th>27</th><td>RCP 8.5</td><td>1791-01-01</td><td>CO2_RF</td><td>0.090661</td></tr><tr><th>28</th><td>RCP 8.5</td><td>1792-01-01</td><td>CO2_RF</td><td>0.0933979</td></tr><tr><th>29</th><td>RCP 8.5</td><td>1793-01-01</td><td>CO2_RF</td><td>0.0960604</td></tr><tr><th>30</th><td>RCP 8.5</td><td>1794-01-01</td><td>CO2_RF</td><td>0.0986421</td></tr><tr><th>&vellip;</th><td>&vellip;</td><td>&vellip;</td><td>&vellip;</td><td>&vellip;</td></tr></tbody></table>"
      ],
      "text/plain": [
       "2238×4 DataFrames.DataFrame\n",
       "│ Row  │ model          │ year       │ variable │ value     │\n",
       "├──────┼────────────────┼────────────┼──────────┼───────────┤\n",
       "│ 1    │ RCP 8.5        │ 1765-01-01 │ CO2_RF   │ 0.0       │\n",
       "│ 2    │ RCP 8.5        │ 1766-01-01 │ CO2_RF   │ 0.0110491 │\n",
       "│ 3    │ RCP 8.5        │ 1767-01-01 │ CO2_RF   │ 0.023246  │\n",
       "│ 4    │ RCP 8.5        │ 1768-01-01 │ CO2_RF   │ 0.0256052 │\n",
       "│ 5    │ RCP 8.5        │ 1769-01-01 │ CO2_RF   │ 0.028057  │\n",
       "│ 6    │ RCP 8.5        │ 1770-01-01 │ CO2_RF   │ 0.0305529 │\n",
       "│ 7    │ RCP 8.5        │ 1771-01-01 │ CO2_RF   │ 0.0330936 │\n",
       "│ 8    │ RCP 8.5        │ 1772-01-01 │ CO2_RF   │ 0.0357058 │\n",
       "│ 9    │ RCP 8.5        │ 1773-01-01 │ CO2_RF   │ 0.0383971 │\n",
       "│ 10   │ RCP 8.5        │ 1774-01-01 │ CO2_RF   │ 0.0411609 │\n",
       "│ 11   │ RCP 8.5        │ 1775-01-01 │ CO2_RF   │ 0.0440096 │\n",
       "⋮\n",
       "│ 2227 │ Mimi-Page-2009 │ 2150-01-01 │ CH4_RF   │ 0.526012  │\n",
       "│ 2228 │ Mimi-Page-2009 │ 2200-01-01 │ CH4_RF   │ 0.525522  │\n",
       "│ 2229 │ Mimi-Page-2009 │ 2009-01-01 │ N2O_RF   │ 0.182874  │\n",
       "│ 2230 │ Mimi-Page-2009 │ 2010-01-01 │ N2O_RF   │ 0.185722  │\n",
       "│ 2231 │ Mimi-Page-2009 │ 2020-01-01 │ N2O_RF   │ 0.213042  │\n",
       "│ 2232 │ Mimi-Page-2009 │ 2030-01-01 │ N2O_RF   │ 0.238592  │\n",
       "│ 2233 │ Mimi-Page-2009 │ 2040-01-01 │ N2O_RF   │ 0.262293  │\n",
       "│ 2234 │ Mimi-Page-2009 │ 2050-01-01 │ N2O_RF   │ 0.283975  │\n",
       "│ 2235 │ Mimi-Page-2009 │ 2075-01-01 │ N2O_RF   │ 0.32834   │\n",
       "│ 2236 │ Mimi-Page-2009 │ 2100-01-01 │ N2O_RF   │ 0.360897  │\n",
       "│ 2237 │ Mimi-Page-2009 │ 2150-01-01 │ N2O_RF   │ 0.405895  │\n",
       "│ 2238 │ Mimi-Page-2009 │ 2200-01-01 │ N2O_RF   │ 0.434424  │"
      ]
     },
     "execution_count": 6,
     "metadata": {},
     "output_type": "execute_result"
    }
   ],
   "source": [
    "# Load the RCP 8.5 radiative forcings (by gas)\n",
    "\n",
    "df_rcp = load(\"rcp85-radforcing.csv\", colnames=Dict(\"v YEARS/GAS >\" => \"year\")) |>\n",
    "    @map({_.year, _.CO2_RF, _.CH4_RF, _.N2O_RF}) |> \n",
    "    DataFrame\n",
    "\n",
    "\n",
    "df_rcp = stack(df_rcp, [:CO2_RF, :CH4_RF, :N2O_RF])\n",
    "df_rcp[:model] = \"RCP 8.5\"\n",
    "\n",
    "df_rcp = df_rcp |> @map({_.model, _.year, _.variable, _.value}) |> DataFrame\n",
    "\n",
    "df_page_co2 = getdataframe(m, :co2forcing, :f_CO2forcing) |>\n",
    "    @map({variable=\"CO2_RF\", value=_.f_CO2forcing, year=_.time, model=\"Mimi-Page-2009\"}) |>\n",
    "    DataFrame\n",
    "\n",
    "df_page_ch4 = getdataframe(m, :ch4forcing, :f_CH4forcing) |>\n",
    "    @map({variable=\"CH4_RF\", value=_.f_CH4forcing, year=_.time, model=\"Mimi-Page-2009\"}) |>\n",
    "    DataFrame\n",
    "\n",
    "df_page_n2o = getdataframe(m, :n2oforcing, :f_N2Oforcing) |>\n",
    "    @map({variable=\"N2O_RF\", value=_.f_N2Oforcing, year=_.time, model=\"Mimi-Page-2009\"}) |>\n",
    "    DataFrame\n",
    "\n",
    "df = vcat(df_rcp, df_page_co2, df_page_ch4, df_page_n2o)\n",
    "\n",
    "df[:year] = Date.(df[:year])\n",
    "df"
   ]
  },
  {
   "cell_type": "markdown",
   "metadata": {},
   "source": [
    "Here we produce a comparison dataframe, between `estimated` radiative forcings for CO2, N2O, and CH4, and those under RCP 8.5 (labeled by `rcp85`)."
   ]
  },
  {
   "cell_type": "code",
   "execution_count": 9,
   "metadata": {},
   "outputs": [
    {
     "data": {
      "application/vnd.vegalite.v2+json": {
       "data": {
        "values": [
         {
          "model": "RCP 8.5",
          "value": 1.5559009000000001,
          "variable": "CO2_RF",
          "year": "2001-01-01"
         },
         {
          "model": "RCP 8.5",
          "value": 1.5854995,
          "variable": "CO2_RF",
          "year": "2002-01-01"
         },
         {
          "model": "RCP 8.5",
          "value": 1.6175545,
          "variable": "CO2_RF",
          "year": "2003-01-01"
         },
         {
          "model": "RCP 8.5",
          "value": 1.6467939,
          "variable": "CO2_RF",
          "year": "2004-01-01"
         },
         {
          "model": "RCP 8.5",
          "value": 1.675125,
          "variable": "CO2_RF",
          "year": "2005-01-01"
         },
         {
          "model": "RCP 8.5",
          "value": 1.7035227,
          "variable": "CO2_RF",
          "year": "2006-01-01"
         },
         {
          "model": "RCP 8.5",
          "value": 1.7308597,
          "variable": "CO2_RF",
          "year": "2007-01-01"
         },
         {
          "model": "RCP 8.5",
          "value": 1.7590634,
          "variable": "CO2_RF",
          "year": "2008-01-01"
         },
         {
          "model": "RCP 8.5",
          "value": 1.7897425999999999,
          "variable": "CO2_RF",
          "year": "2009-01-01"
         },
         {
          "model": "RCP 8.5",
          "value": 1.821622,
          "variable": "CO2_RF",
          "year": "2010-01-01"
         },
         {
          "model": "RCP 8.5",
          "value": 1.8533382,
          "variable": "CO2_RF",
          "year": "2011-01-01"
         },
         {
          "model": "RCP 8.5",
          "value": 1.8856380000000001,
          "variable": "CO2_RF",
          "year": "2012-01-01"
         },
         {
          "model": "RCP 8.5",
          "value": 1.9188853,
          "variable": "CO2_RF",
          "year": "2013-01-01"
         },
         {
          "model": "RCP 8.5",
          "value": 1.9530678,
          "variable": "CO2_RF",
          "year": "2014-01-01"
         },
         {
          "model": "RCP 8.5",
          "value": 1.9881493,
          "variable": "CO2_RF",
          "year": "2015-01-01"
         },
         {
          "model": "RCP 8.5",
          "value": 2.0240135,
          "variable": "CO2_RF",
          "year": "2016-01-01"
         },
         {
          "model": "RCP 8.5",
          "value": 2.0605256,
          "variable": "CO2_RF",
          "year": "2017-01-01"
         },
         {
          "model": "RCP 8.5",
          "value": 2.0976187,
          "variable": "CO2_RF",
          "year": "2018-01-01"
         },
         {
          "model": "RCP 8.5",
          "value": 2.1352784,
          "variable": "CO2_RF",
          "year": "2019-01-01"
         },
         {
          "model": "RCP 8.5",
          "value": 2.1735014,
          "variable": "CO2_RF",
          "year": "2020-01-01"
         },
         {
          "model": "RCP 8.5",
          "value": 2.2121869,
          "variable": "CO2_RF",
          "year": "2021-01-01"
         },
         {
          "model": "RCP 8.5",
          "value": 2.2512548,
          "variable": "CO2_RF",
          "year": "2022-01-01"
         },
         {
          "model": "RCP 8.5",
          "value": 2.2908228,
          "variable": "CO2_RF",
          "year": "2023-01-01"
         },
         {
          "model": "RCP 8.5",
          "value": 2.3310047,
          "variable": "CO2_RF",
          "year": "2024-01-01"
         },
         {
          "model": "RCP 8.5",
          "value": 2.3718144,
          "variable": "CO2_RF",
          "year": "2025-01-01"
         },
         {
          "model": "RCP 8.5",
          "value": 2.4132271,
          "variable": "CO2_RF",
          "year": "2026-01-01"
         },
         {
          "model": "RCP 8.5",
          "value": 2.4551395,
          "variable": "CO2_RF",
          "year": "2027-01-01"
         },
         {
          "model": "RCP 8.5",
          "value": 2.4974276,
          "variable": "CO2_RF",
          "year": "2028-01-01"
         },
         {
          "model": "RCP 8.5",
          "value": 2.5400311,
          "variable": "CO2_RF",
          "year": "2029-01-01"
         },
         {
          "model": "RCP 8.5",
          "value": 2.5829415,
          "variable": "CO2_RF",
          "year": "2030-01-01"
         },
         {
          "model": "RCP 8.5",
          "value": 2.6261583,
          "variable": "CO2_RF",
          "year": "2031-01-01"
         },
         {
          "model": "RCP 8.5",
          "value": 2.6697873,
          "variable": "CO2_RF",
          "year": "2032-01-01"
         },
         {
          "model": "RCP 8.5",
          "value": 2.7140357,
          "variable": "CO2_RF",
          "year": "2033-01-01"
         },
         {
          "model": "RCP 8.5",
          "value": 2.7590846,
          "variable": "CO2_RF",
          "year": "2034-01-01"
         },
         {
          "model": "RCP 8.5",
          "value": 2.8050205999999998,
          "variable": "CO2_RF",
          "year": "2035-01-01"
         },
         {
          "model": "RCP 8.5",
          "value": 2.8518385,
          "variable": "CO2_RF",
          "year": "2036-01-01"
         },
         {
          "model": "RCP 8.5",
          "value": 2.8995034,
          "variable": "CO2_RF",
          "year": "2037-01-01"
         },
         {
          "model": "RCP 8.5",
          "value": 2.9479034,
          "variable": "CO2_RF",
          "year": "2038-01-01"
         },
         {
          "model": "RCP 8.5",
          "value": 2.9969033,
          "variable": "CO2_RF",
          "year": "2039-01-01"
         },
         {
          "model": "RCP 8.5",
          "value": 3.0464317,
          "variable": "CO2_RF",
          "year": "2040-01-01"
         },
         {
          "model": "RCP 8.5",
          "value": 3.0964671,
          "variable": "CO2_RF",
          "year": "2041-01-01"
         },
         {
          "model": "RCP 8.5",
          "value": 3.1471165,
          "variable": "CO2_RF",
          "year": "2042-01-01"
         },
         {
          "model": "RCP 8.5",
          "value": 3.1983817,
          "variable": "CO2_RF",
          "year": "2043-01-01"
         },
         {
          "model": "RCP 8.5",
          "value": 3.2502464,
          "variable": "CO2_RF",
          "year": "2044-01-01"
         },
         {
          "model": "RCP 8.5",
          "value": 3.3028683,
          "variable": "CO2_RF",
          "year": "2045-01-01"
         },
         {
          "model": "RCP 8.5",
          "value": 3.3563298,
          "variable": "CO2_RF",
          "year": "2046-01-01"
         },
         {
          "model": "RCP 8.5",
          "value": 3.4106416,
          "variable": "CO2_RF",
          "year": "2047-01-01"
         },
         {
          "model": "RCP 8.5",
          "value": 3.4657699,
          "variable": "CO2_RF",
          "year": "2048-01-01"
         },
         {
          "model": "RCP 8.5",
          "value": 3.5216066,
          "variable": "CO2_RF",
          "year": "2049-01-01"
         },
         {
          "model": "RCP 8.5",
          "value": 3.5780214,
          "variable": "CO2_RF",
          "year": "2050-01-01"
         },
         {
          "model": "RCP 8.5",
          "value": 3.6349415,
          "variable": "CO2_RF",
          "year": "2051-01-01"
         },
         {
          "model": "RCP 8.5",
          "value": 3.6923356,
          "variable": "CO2_RF",
          "year": "2052-01-01"
         },
         {
          "model": "RCP 8.5",
          "value": 3.7501794999999998,
          "variable": "CO2_RF",
          "year": "2053-01-01"
         },
         {
          "model": "RCP 8.5",
          "value": 3.80836,
          "variable": "CO2_RF",
          "year": "2054-01-01"
         },
         {
          "model": "RCP 8.5",
          "value": 3.8668774,
          "variable": "CO2_RF",
          "year": "2055-01-01"
         },
         {
          "model": "RCP 8.5",
          "value": 3.9259045,
          "variable": "CO2_RF",
          "year": "2056-01-01"
         },
         {
          "model": "RCP 8.5",
          "value": 3.9855223,
          "variable": "CO2_RF",
          "year": "2057-01-01"
         },
         {
          "model": "RCP 8.5",
          "value": 4.0457482,
          "variable": "CO2_RF",
          "year": "2058-01-01"
         },
         {
          "model": "RCP 8.5",
          "value": 4.1065645,
          "variable": "CO2_RF",
          "year": "2059-01-01"
         },
         {
          "model": "RCP 8.5",
          "value": 4.1678751,
          "variable": "CO2_RF",
          "year": "2060-01-01"
         },
         {
          "model": "RCP 8.5",
          "value": 4.2295627,
          "variable": "CO2_RF",
          "year": "2061-01-01"
         },
         {
          "model": "RCP 8.5",
          "value": 4.2913522,
          "variable": "CO2_RF",
          "year": "2062-01-01"
         },
         {
          "model": "RCP 8.5",
          "value": 4.3530331,
          "variable": "CO2_RF",
          "year": "2063-01-01"
         },
         {
          "model": "RCP 8.5",
          "value": 4.4146265,
          "variable": "CO2_RF",
          "year": "2064-01-01"
         },
         {
          "model": "RCP 8.5",
          "value": 4.4760619,
          "variable": "CO2_RF",
          "year": "2065-01-01"
         },
         {
          "model": "RCP 8.5",
          "value": 4.5373493,
          "variable": "CO2_RF",
          "year": "2066-01-01"
         },
         {
          "model": "RCP 8.5",
          "value": 4.5986256,
          "variable": "CO2_RF",
          "year": "2067-01-01"
         },
         {
          "model": "RCP 8.5",
          "value": 4.6600234,
          "variable": "CO2_RF",
          "year": "2068-01-01"
         },
         {
          "model": "RCP 8.5",
          "value": 4.7216313,
          "variable": "CO2_RF",
          "year": "2069-01-01"
         },
         {
          "model": "RCP 8.5",
          "value": 4.783432,
          "variable": "CO2_RF",
          "year": "2070-01-01"
         },
         {
          "model": "RCP 8.5",
          "value": 4.8453387,
          "variable": "CO2_RF",
          "year": "2071-01-01"
         },
         {
          "model": "RCP 8.5",
          "value": 4.9070872,
          "variable": "CO2_RF",
          "year": "2072-01-01"
         },
         {
          "model": "RCP 8.5",
          "value": 4.9684716,
          "variable": "CO2_RF",
          "year": "2073-01-01"
         },
         {
          "model": "RCP 8.5",
          "value": 5.0295014,
          "variable": "CO2_RF",
          "year": "2074-01-01"
         },
         {
          "model": "RCP 8.5",
          "value": 5.0901899,
          "variable": "CO2_RF",
          "year": "2075-01-01"
         },
         {
          "model": "RCP 8.5",
          "value": 5.1504687,
          "variable": "CO2_RF",
          "year": "2076-01-01"
         },
         {
          "model": "RCP 8.5",
          "value": 5.2104416,
          "variable": "CO2_RF",
          "year": "2077-01-01"
         },
         {
          "model": "RCP 8.5",
          "value": 5.2700855,
          "variable": "CO2_RF",
          "year": "2078-01-01"
         },
         {
          "model": "RCP 8.5",
          "value": 5.3295268,
          "variable": "CO2_RF",
          "year": "2079-01-01"
         },
         {
          "model": "RCP 8.5",
          "value": 5.3889983,
          "variable": "CO2_RF",
          "year": "2080-01-01"
         },
         {
          "model": "RCP 8.5",
          "value": 5.4484066,
          "variable": "CO2_RF",
          "year": "2081-01-01"
         },
         {
          "model": "RCP 8.5",
          "value": 5.5076312,
          "variable": "CO2_RF",
          "year": "2082-01-01"
         },
         {
          "model": "RCP 8.5",
          "value": 5.5665288,
          "variable": "CO2_RF",
          "year": "2083-01-01"
         },
         {
          "model": "RCP 8.5",
          "value": 5.6250383,
          "variable": "CO2_RF",
          "year": "2084-01-01"
         },
         {
          "model": "RCP 8.5",
          "value": 5.6831731,
          "variable": "CO2_RF",
          "year": "2085-01-01"
         },
         {
          "model": "RCP 8.5",
          "value": 5.7409665,
          "variable": "CO2_RF",
          "year": "2086-01-01"
         },
         {
          "model": "RCP 8.5",
          "value": 5.7982197,
          "variable": "CO2_RF",
          "year": "2087-01-01"
         },
         {
          "model": "RCP 8.5",
          "value": 5.8550436999999995,
          "variable": "CO2_RF",
          "year": "2088-01-01"
         },
         {
          "model": "RCP 8.5",
          "value": 5.9116789,
          "variable": "CO2_RF",
          "year": "2089-01-01"
         },
         {
          "model": "RCP 8.5",
          "value": 5.9680382,
          "variable": "CO2_RF",
          "year": "2090-01-01"
         },
         {
          "model": "RCP 8.5",
          "value": 6.02426,
          "variable": "CO2_RF",
          "year": "2091-01-01"
         },
         {
          "model": "RCP 8.5",
          "value": 6.0803942,
          "variable": "CO2_RF",
          "year": "2092-01-01"
         },
         {
          "model": "RCP 8.5",
          "value": 6.1362544,
          "variable": "CO2_RF",
          "year": "2093-01-01"
         },
         {
          "model": "RCP 8.5",
          "value": 6.1917609,
          "variable": "CO2_RF",
          "year": "2094-01-01"
         },
         {
          "model": "RCP 8.5",
          "value": 6.2468765,
          "variable": "CO2_RF",
          "year": "2095-01-01"
         },
         {
          "model": "RCP 8.5",
          "value": 6.3015802,
          "variable": "CO2_RF",
          "year": "2096-01-01"
         },
         {
          "model": "RCP 8.5",
          "value": 6.3558614,
          "variable": "CO2_RF",
          "year": "2097-01-01"
         },
         {
          "model": "RCP 8.5",
          "value": 6.4097028,
          "variable": "CO2_RF",
          "year": "2098-01-01"
         },
         {
          "model": "RCP 8.5",
          "value": 6.4630729,
          "variable": "CO2_RF",
          "year": "2099-01-01"
         },
         {
          "model": "RCP 8.5",
          "value": 6.5160029,
          "variable": "CO2_RF",
          "year": "2100-01-01"
         },
         {
          "model": "RCP 8.5",
          "value": 6.5686894,
          "variable": "CO2_RF",
          "year": "2101-01-01"
         },
         {
          "model": "RCP 8.5",
          "value": 6.6212902,
          "variable": "CO2_RF",
          "year": "2102-01-01"
         },
         {
          "model": "RCP 8.5",
          "value": 6.6735957,
          "variable": "CO2_RF",
          "year": "2103-01-01"
         },
         {
          "model": "RCP 8.5",
          "value": 6.725553,
          "variable": "CO2_RF",
          "year": "2104-01-01"
         },
         {
          "model": "RCP 8.5",
          "value": 6.7772173,
          "variable": "CO2_RF",
          "year": "2105-01-01"
         },
         {
          "model": "RCP 8.5",
          "value": 6.8285113,
          "variable": "CO2_RF",
          "year": "2106-01-01"
         },
         {
          "model": "RCP 8.5",
          "value": 6.879456,
          "variable": "CO2_RF",
          "year": "2107-01-01"
         },
         {
          "model": "RCP 8.5",
          "value": 6.9299196,
          "variable": "CO2_RF",
          "year": "2108-01-01"
         },
         {
          "model": "RCP 8.5",
          "value": 6.9799188,
          "variable": "CO2_RF",
          "year": "2109-01-01"
         },
         {
          "model": "RCP 8.5",
          "value": 7.0294685,
          "variable": "CO2_RF",
          "year": "2110-01-01"
         },
         {
          "model": "RCP 8.5",
          "value": 7.0785474,
          "variable": "CO2_RF",
          "year": "2111-01-01"
         },
         {
          "model": "RCP 8.5",
          "value": 7.1274107,
          "variable": "CO2_RF",
          "year": "2112-01-01"
         },
         {
          "model": "RCP 8.5",
          "value": 7.1760494,
          "variable": "CO2_RF",
          "year": "2113-01-01"
         },
         {
          "model": "RCP 8.5",
          "value": 7.2244717,
          "variable": "CO2_RF",
          "year": "2114-01-01"
         },
         {
          "model": "RCP 8.5",
          "value": 7.2727415,
          "variable": "CO2_RF",
          "year": "2115-01-01"
         },
         {
          "model": "RCP 8.5",
          "value": 7.3206906,
          "variable": "CO2_RF",
          "year": "2116-01-01"
         },
         {
          "model": "RCP 8.5",
          "value": 7.3683597,
          "variable": "CO2_RF",
          "year": "2117-01-01"
         },
         {
          "model": "RCP 8.5",
          "value": 7.4156853,
          "variable": "CO2_RF",
          "year": "2118-01-01"
         },
         {
          "model": "RCP 8.5",
          "value": 7.4625457,
          "variable": "CO2_RF",
          "year": "2119-01-01"
         },
         {
          "model": "RCP 8.5",
          "value": 7.5090525,
          "variable": "CO2_RF",
          "year": "2120-01-01"
         },
         {
          "model": "RCP 8.5",
          "value": 7.5551376,
          "variable": "CO2_RF",
          "year": "2121-01-01"
         },
         {
          "model": "RCP 8.5",
          "value": 7.6007844,
          "variable": "CO2_RF",
          "year": "2122-01-01"
         },
         {
          "model": "RCP 8.5",
          "value": 7.6462257000000005,
          "variable": "CO2_RF",
          "year": "2123-01-01"
         },
         {
          "model": "RCP 8.5",
          "value": 7.6915683,
          "variable": "CO2_RF",
          "year": "2124-01-01"
         },
         {
          "model": "RCP 8.5",
          "value": 7.7367294,
          "variable": "CO2_RF",
          "year": "2125-01-01"
         },
         {
          "model": "RCP 8.5",
          "value": 7.7816681,
          "variable": "CO2_RF",
          "year": "2126-01-01"
         },
         {
          "model": "RCP 8.5",
          "value": 7.82642,
          "variable": "CO2_RF",
          "year": "2127-01-01"
         },
         {
          "model": "RCP 8.5",
          "value": 7.8709787,
          "variable": "CO2_RF",
          "year": "2128-01-01"
         },
         {
          "model": "RCP 8.5",
          "value": 7.9151488,
          "variable": "CO2_RF",
          "year": "2129-01-01"
         },
         {
          "model": "RCP 8.5",
          "value": 7.9589474,
          "variable": "CO2_RF",
          "year": "2130-01-01"
         },
         {
          "model": "RCP 8.5",
          "value": 8.0024321,
          "variable": "CO2_RF",
          "year": "2131-01-01"
         },
         {
          "model": "RCP 8.5",
          "value": 8.0454518,
          "variable": "CO2_RF",
          "year": "2132-01-01"
         },
         {
          "model": "RCP 8.5",
          "value": 8.0881633,
          "variable": "CO2_RF",
          "year": "2133-01-01"
         },
         {
          "model": "RCP 8.5",
          "value": 8.1307319,
          "variable": "CO2_RF",
          "year": "2134-01-01"
         },
         {
          "model": "RCP 8.5",
          "value": 8.1731285,
          "variable": "CO2_RF",
          "year": "2135-01-01"
         },
         {
          "model": "RCP 8.5",
          "value": 8.2153868,
          "variable": "CO2_RF",
          "year": "2136-01-01"
         },
         {
          "model": "RCP 8.5",
          "value": 8.2575571,
          "variable": "CO2_RF",
          "year": "2137-01-01"
         },
         {
          "model": "RCP 8.5",
          "value": 8.2995232,
          "variable": "CO2_RF",
          "year": "2138-01-01"
         },
         {
          "model": "RCP 8.5",
          "value": 8.3411989,
          "variable": "CO2_RF",
          "year": "2139-01-01"
         },
         {
          "model": "RCP 8.5",
          "value": 8.3826114,
          "variable": "CO2_RF",
          "year": "2140-01-01"
         },
         {
          "model": "RCP 8.5",
          "value": 8.4237532,
          "variable": "CO2_RF",
          "year": "2141-01-01"
         },
         {
          "model": "RCP 8.5",
          "value": 8.4645674,
          "variable": "CO2_RF",
          "year": "2142-01-01"
         },
         {
          "model": "RCP 8.5",
          "value": 8.5050026,
          "variable": "CO2_RF",
          "year": "2143-01-01"
         },
         {
          "model": "RCP 8.5",
          "value": 8.5451097,
          "variable": "CO2_RF",
          "year": "2144-01-01"
         },
         {
          "model": "RCP 8.5",
          "value": 8.5850075,
          "variable": "CO2_RF",
          "year": "2145-01-01"
         },
         {
          "model": "RCP 8.5",
          "value": 8.6248156,
          "variable": "CO2_RF",
          "year": "2146-01-01"
         },
         {
          "model": "RCP 8.5",
          "value": 8.6645648,
          "variable": "CO2_RF",
          "year": "2147-01-01"
         },
         {
          "model": "RCP 8.5",
          "value": 8.7041744,
          "variable": "CO2_RF",
          "year": "2148-01-01"
         },
         {
          "model": "RCP 8.5",
          "value": 8.7436402,
          "variable": "CO2_RF",
          "year": "2149-01-01"
         },
         {
          "model": "RCP 8.5",
          "value": 8.7829155,
          "variable": "CO2_RF",
          "year": "2150-01-01"
         },
         {
          "model": "RCP 8.5",
          "value": 8.8218612,
          "variable": "CO2_RF",
          "year": "2151-01-01"
         },
         {
          "model": "RCP 8.5",
          "value": 8.8602943,
          "variable": "CO2_RF",
          "year": "2152-01-01"
         },
         {
          "model": "RCP 8.5",
          "value": 8.8980595,
          "variable": "CO2_RF",
          "year": "2153-01-01"
         },
         {
          "model": "RCP 8.5",
          "value": 8.9349932,
          "variable": "CO2_RF",
          "year": "2154-01-01"
         },
         {
          "model": "RCP 8.5",
          "value": 8.9711403,
          "variable": "CO2_RF",
          "year": "2155-01-01"
         },
         {
          "model": "RCP 8.5",
          "value": 9.0068072,
          "variable": "CO2_RF",
          "year": "2156-01-01"
         },
         {
          "model": "RCP 8.5",
          "value": 9.0420434,
          "variable": "CO2_RF",
          "year": "2157-01-01"
         },
         {
          "model": "RCP 8.5",
          "value": 9.0767433,
          "variable": "CO2_RF",
          "year": "2158-01-01"
         },
         {
          "model": "RCP 8.5",
          "value": 9.1109311,
          "variable": "CO2_RF",
          "year": "2159-01-01"
         },
         {
          "model": "RCP 8.5",
          "value": 9.1446166,
          "variable": "CO2_RF",
          "year": "2160-01-01"
         },
         {
          "model": "RCP 8.5",
          "value": 9.1777623,
          "variable": "CO2_RF",
          "year": "2161-01-01"
         },
         {
          "model": "RCP 8.5",
          "value": 9.2103383,
          "variable": "CO2_RF",
          "year": "2162-01-01"
         },
         {
          "model": "RCP 8.5",
          "value": 9.2423292,
          "variable": "CO2_RF",
          "year": "2163-01-01"
         },
         {
          "model": "RCP 8.5",
          "value": 9.2737893,
          "variable": "CO2_RF",
          "year": "2164-01-01"
         },
         {
          "model": "RCP 8.5",
          "value": 9.3045366,
          "variable": "CO2_RF",
          "year": "2165-01-01"
         },
         {
          "model": "RCP 8.5",
          "value": 9.3345822,
          "variable": "CO2_RF",
          "year": "2166-01-01"
         },
         {
          "model": "RCP 8.5",
          "value": 9.3642581,
          "variable": "CO2_RF",
          "year": "2167-01-01"
         },
         {
          "model": "RCP 8.5",
          "value": 9.3935886,
          "variable": "CO2_RF",
          "year": "2168-01-01"
         },
         {
          "model": "RCP 8.5",
          "value": 9.4225049,
          "variable": "CO2_RF",
          "year": "2169-01-01"
         },
         {
          "model": "RCP 8.5",
          "value": 9.4509909,
          "variable": "CO2_RF",
          "year": "2170-01-01"
         },
         {
          "model": "RCP 8.5",
          "value": 9.4790427,
          "variable": "CO2_RF",
          "year": "2171-01-01"
         },
         {
          "model": "RCP 8.5",
          "value": 9.506636199999999,
          "variable": "CO2_RF",
          "year": "2172-01-01"
         },
         {
          "model": "RCP 8.5",
          "value": 9.5337563,
          "variable": "CO2_RF",
          "year": "2173-01-01"
         },
         {
          "model": "RCP 8.5",
          "value": 9.5604017,
          "variable": "CO2_RF",
          "year": "2174-01-01"
         },
         {
          "model": "RCP 8.5",
          "value": 9.5865205,
          "variable": "CO2_RF",
          "year": "2175-01-01"
         },
         {
          "model": "RCP 8.5",
          "value": 9.6119961,
          "variable": "CO2_RF",
          "year": "2176-01-01"
         },
         {
          "model": "RCP 8.5",
          "value": 9.636883300000001,
          "variable": "CO2_RF",
          "year": "2177-01-01"
         },
         {
          "model": "RCP 8.5",
          "value": 9.661404600000001,
          "variable": "CO2_RF",
          "year": "2178-01-01"
         },
         {
          "model": "RCP 8.5",
          "value": 9.6856202,
          "variable": "CO2_RF",
          "year": "2179-01-01"
         },
         {
          "model": "RCP 8.5",
          "value": 9.7095102,
          "variable": "CO2_RF",
          "year": "2180-01-01"
         },
         {
          "model": "RCP 8.5",
          "value": 9.7330781,
          "variable": "CO2_RF",
          "year": "2181-01-01"
         },
         {
          "model": "RCP 8.5",
          "value": 9.7562708,
          "variable": "CO2_RF",
          "year": "2182-01-01"
         },
         {
          "model": "RCP 8.5",
          "value": 9.7790706,
          "variable": "CO2_RF",
          "year": "2183-01-01"
         },
         {
          "model": "RCP 8.5",
          "value": 9.8014465,
          "variable": "CO2_RF",
          "year": "2184-01-01"
         },
         {
          "model": "RCP 8.5",
          "value": 9.8233025,
          "variable": "CO2_RF",
          "year": "2185-01-01"
         },
         {
          "model": "RCP 8.5",
          "value": 9.8446793,
          "variable": "CO2_RF",
          "year": "2186-01-01"
         },
         {
          "model": "RCP 8.5",
          "value": 9.8655411,
          "variable": "CO2_RF",
          "year": "2187-01-01"
         },
         {
          "model": "RCP 8.5",
          "value": 9.8858665,
          "variable": "CO2_RF",
          "year": "2188-01-01"
         },
         {
          "model": "RCP 8.5",
          "value": 9.9058265,
          "variable": "CO2_RF",
          "year": "2189-01-01"
         },
         {
          "model": "RCP 8.5",
          "value": 9.9255089,
          "variable": "CO2_RF",
          "year": "2190-01-01"
         },
         {
          "model": "RCP 8.5",
          "value": 9.9449228,
          "variable": "CO2_RF",
          "year": "2191-01-01"
         },
         {
          "model": "RCP 8.5",
          "value": 9.964045,
          "variable": "CO2_RF",
          "year": "2192-01-01"
         },
         {
          "model": "RCP 8.5",
          "value": 9.9828425,
          "variable": "CO2_RF",
          "year": "2193-01-01"
         },
         {
          "model": "RCP 8.5",
          "value": 10.001251,
          "variable": "CO2_RF",
          "year": "2194-01-01"
         },
         {
          "model": "RCP 8.5",
          "value": 10.019232,
          "variable": "CO2_RF",
          "year": "2195-01-01"
         },
         {
          "model": "RCP 8.5",
          "value": 10.036839,
          "variable": "CO2_RF",
          "year": "2196-01-01"
         },
         {
          "model": "RCP 8.5",
          "value": 10.053955,
          "variable": "CO2_RF",
          "year": "2197-01-01"
         },
         {
          "model": "RCP 8.5",
          "value": 10.070532,
          "variable": "CO2_RF",
          "year": "2198-01-01"
         },
         {
          "model": "RCP 8.5",
          "value": 10.086721,
          "variable": "CO2_RF",
          "year": "2199-01-01"
         },
         {
          "model": "RCP 8.5",
          "value": 10.102564,
          "variable": "CO2_RF",
          "year": "2200-01-01"
         },
         {
          "model": "RCP 8.5",
          "value": 0.4792313,
          "variable": "CH4_RF",
          "year": "2001-01-01"
         },
         {
          "model": "RCP 8.5",
          "value": 0.47978539,
          "variable": "CH4_RF",
          "year": "2002-01-01"
         },
         {
          "model": "RCP 8.5",
          "value": 0.48074821,
          "variable": "CH4_RF",
          "year": "2003-01-01"
         },
         {
          "model": "RCP 8.5",
          "value": 0.48086234,
          "variable": "CH4_RF",
          "year": "2004-01-01"
         },
         {
          "model": "RCP 8.5",
          "value": 0.48036474,
          "variable": "CH4_RF",
          "year": "2005-01-01"
         },
         {
          "model": "RCP 8.5",
          "value": 0.48065541,
          "variable": "CH4_RF",
          "year": "2006-01-01"
         },
         {
          "model": "RCP 8.5",
          "value": 0.48197675,
          "variable": "CH4_RF",
          "year": "2007-01-01"
         },
         {
          "model": "RCP 8.5",
          "value": 0.48398319,
          "variable": "CH4_RF",
          "year": "2008-01-01"
         },
         {
          "model": "RCP 8.5",
          "value": 0.48660099,
          "variable": "CH4_RF",
          "year": "2009-01-01"
         },
         {
          "model": "RCP 8.5",
          "value": 0.48966278,
          "variable": "CH4_RF",
          "year": "2010-01-01"
         },
         {
          "model": "RCP 8.5",
          "value": 0.49313234,
          "variable": "CH4_RF",
          "year": "2011-01-01"
         },
         {
          "model": "RCP 8.5",
          "value": 0.49704825,
          "variable": "CH4_RF",
          "year": "2012-01-01"
         },
         {
          "model": "RCP 8.5",
          "value": 0.50143706,
          "variable": "CH4_RF",
          "year": "2013-01-01"
         },
         {
          "model": "RCP 8.5",
          "value": 0.50626431,
          "variable": "CH4_RF",
          "year": "2014-01-01"
         },
         {
          "model": "RCP 8.5",
          "value": 0.51150171,
          "variable": "CH4_RF",
          "year": "2015-01-01"
         },
         {
          "model": "RCP 8.5",
          "value": 0.51711044,
          "variable": "CH4_RF",
          "year": "2016-01-01"
         },
         {
          "model": "RCP 8.5",
          "value": 0.52304484,
          "variable": "CH4_RF",
          "year": "2017-01-01"
         },
         {
          "model": "RCP 8.5",
          "value": 0.52926581,
          "variable": "CH4_RF",
          "year": "2018-01-01"
         },
         {
          "model": "RCP 8.5",
          "value": 0.53574053,
          "variable": "CH4_RF",
          "year": "2019-01-01"
         },
         {
          "model": "RCP 8.5",
          "value": 0.54243872,
          "variable": "CH4_RF",
          "year": "2020-01-01"
         },
         {
          "model": "RCP 8.5",
          "value": 0.54930553,
          "variable": "CH4_RF",
          "year": "2021-01-01"
         },
         {
          "model": "RCP 8.5",
          "value": 0.55627484,
          "variable": "CH4_RF",
          "year": "2022-01-01"
         },
         {
          "model": "RCP 8.5",
          "value": 0.56332393,
          "variable": "CH4_RF",
          "year": "2023-01-01"
         },
         {
          "model": "RCP 8.5",
          "value": 0.57045553,
          "variable": "CH4_RF",
          "year": "2024-01-01"
         },
         {
          "model": "RCP 8.5",
          "value": 0.57767104,
          "variable": "CH4_RF",
          "year": "2025-01-01"
         },
         {
          "model": "RCP 8.5",
          "value": 0.58497465,
          "variable": "CH4_RF",
          "year": "2026-01-01"
         },
         {
          "model": "RCP 8.5",
          "value": 0.59235682,
          "variable": "CH4_RF",
          "year": "2027-01-01"
         },
         {
          "model": "RCP 8.5",
          "value": 0.59979822,
          "variable": "CH4_RF",
          "year": "2028-01-01"
         },
         {
          "model": "RCP 8.5",
          "value": 0.60728403,
          "variable": "CH4_RF",
          "year": "2029-01-01"
         },
         {
          "model": "RCP 8.5",
          "value": 0.61480394,
          "variable": "CH4_RF",
          "year": "2030-01-01"
         },
         {
          "model": "RCP 8.5",
          "value": 0.62234742,
          "variable": "CH4_RF",
          "year": "2031-01-01"
         },
         {
          "model": "RCP 8.5",
          "value": 0.63007446,
          "variable": "CH4_RF",
          "year": "2032-01-01"
         },
         {
          "model": "RCP 8.5",
          "value": 0.63814168,
          "variable": "CH4_RF",
          "year": "2033-01-01"
         },
         {
          "model": "RCP 8.5",
          "value": 0.64653114,
          "variable": "CH4_RF",
          "year": "2034-01-01"
         },
         {
          "model": "RCP 8.5",
          "value": 0.65522251,
          "variable": "CH4_RF",
          "year": "2035-01-01"
         },
         {
          "model": "RCP 8.5",
          "value": 0.66419646,
          "variable": "CH4_RF",
          "year": "2036-01-01"
         },
         {
          "model": "RCP 8.5",
          "value": 0.67343861,
          "variable": "CH4_RF",
          "year": "2037-01-01"
         },
         {
          "model": "RCP 8.5",
          "value": 0.6829216,
          "variable": "CH4_RF",
          "year": "2038-01-01"
         },
         {
          "model": "RCP 8.5",
          "value": 0.69260899,
          "variable": "CH4_RF",
          "year": "2039-01-01"
         },
         {
          "model": "RCP 8.5",
          "value": 0.7024705,
          "variable": "CH4_RF",
          "year": "2040-01-01"
         },
         {
          "model": "RCP 8.5",
          "value": 0.71248233,
          "variable": "CH4_RF",
          "year": "2041-01-01"
         },
         {
          "model": "RCP 8.5",
          "value": 0.72264463,
          "variable": "CH4_RF",
          "year": "2042-01-01"
         },
         {
          "model": "RCP 8.5",
          "value": 0.73292592,
          "variable": "CH4_RF",
          "year": "2043-01-01"
         },
         {
          "model": "RCP 8.5",
          "value": 0.74328614,
          "variable": "CH4_RF",
          "year": "2044-01-01"
         },
         {
          "model": "RCP 8.5",
          "value": 0.75373085,
          "variable": "CH4_RF",
          "year": "2045-01-01"
         },
         {
          "model": "RCP 8.5",
          "value": 0.76426205,
          "variable": "CH4_RF",
          "year": "2046-01-01"
         },
         {
          "model": "RCP 8.5",
          "value": 0.7748808,
          "variable": "CH4_RF",
          "year": "2047-01-01"
         },
         {
          "model": "RCP 8.5",
          "value": 0.78559147,
          "variable": "CH4_RF",
          "year": "2048-01-01"
         },
         {
          "model": "RCP 8.5",
          "value": 0.79638269,
          "variable": "CH4_RF",
          "year": "2049-01-01"
         },
         {
          "model": "RCP 8.5",
          "value": 0.80723136,
          "variable": "CH4_RF",
          "year": "2050-01-01"
         },
         {
          "model": "RCP 8.5",
          "value": 0.81812047,
          "variable": "CH4_RF",
          "year": "2051-01-01"
         },
         {
          "model": "RCP 8.5",
          "value": 0.82885883,
          "variable": "CH4_RF",
          "year": "2052-01-01"
         },
         {
          "model": "RCP 8.5",
          "value": 0.83927214,
          "variable": "CH4_RF",
          "year": "2053-01-01"
         },
         {
          "model": "RCP 8.5",
          "value": 0.84934866,
          "variable": "CH4_RF",
          "year": "2054-01-01"
         },
         {
          "model": "RCP 8.5",
          "value": 0.85908905,
          "variable": "CH4_RF",
          "year": "2055-01-01"
         },
         {
          "model": "RCP 8.5",
          "value": 0.86853949,
          "variable": "CH4_RF",
          "year": "2056-01-01"
         },
         {
          "model": "RCP 8.5",
          "value": 0.87773924,
          "variable": "CH4_RF",
          "year": "2057-01-01"
         },
         {
          "model": "RCP 8.5",
          "value": 0.88672301,
          "variable": "CH4_RF",
          "year": "2058-01-01"
         },
         {
          "model": "RCP 8.5",
          "value": 0.89552604,
          "variable": "CH4_RF",
          "year": "2059-01-01"
         },
         {
          "model": "RCP 8.5",
          "value": 0.90416376,
          "variable": "CH4_RF",
          "year": "2060-01-01"
         },
         {
          "model": "RCP 8.5",
          "value": 0.91263655,
          "variable": "CH4_RF",
          "year": "2061-01-01"
         },
         {
          "model": "RCP 8.5",
          "value": 0.92079151,
          "variable": "CH4_RF",
          "year": "2062-01-01"
         },
         {
          "model": "RCP 8.5",
          "value": 0.92849364,
          "variable": "CH4_RF",
          "year": "2063-01-01"
         },
         {
          "model": "RCP 8.5",
          "value": 0.93577699,
          "variable": "CH4_RF",
          "year": "2064-01-01"
         },
         {
          "model": "RCP 8.5",
          "value": 0.94263696,
          "variable": "CH4_RF",
          "year": "2065-01-01"
         },
         {
          "model": "RCP 8.5",
          "value": 0.94908086,
          "variable": "CH4_RF",
          "year": "2066-01-01"
         },
         {
          "model": "RCP 8.5",
          "value": 0.9551644,
          "variable": "CH4_RF",
          "year": "2067-01-01"
         },
         {
          "model": "RCP 8.5",
          "value": 0.96093611,
          "variable": "CH4_RF",
          "year": "2068-01-01"
         },
         {
          "model": "RCP 8.5",
          "value": 0.96643897,
          "variable": "CH4_RF",
          "year": "2069-01-01"
         },
         {
          "model": "RCP 8.5",
          "value": 0.97171588,
          "variable": "CH4_RF",
          "year": "2070-01-01"
         },
         {
          "model": "RCP 8.5",
          "value": 0.97678856,
          "variable": "CH4_RF",
          "year": "2071-01-01"
         },
         {
          "model": "RCP 8.5",
          "value": 0.98169322,
          "variable": "CH4_RF",
          "year": "2072-01-01"
         },
         {
          "model": "RCP 8.5",
          "value": 0.98646602,
          "variable": "CH4_RF",
          "year": "2073-01-01"
         },
         {
          "model": "RCP 8.5",
          "value": 0.9911134,
          "variable": "CH4_RF",
          "year": "2074-01-01"
         },
         {
          "model": "RCP 8.5",
          "value": 0.99564168,
          "variable": "CH4_RF",
          "year": "2075-01-01"
         },
         {
          "model": "RCP 8.5",
          "value": 1.0000195,
          "variable": "CH4_RF",
          "year": "2076-01-01"
         },
         {
          "model": "RCP 8.5",
          "value": 1.0042299,
          "variable": "CH4_RF",
          "year": "2077-01-01"
         },
         {
          "model": "RCP 8.5",
          "value": 1.0083088,
          "variable": "CH4_RF",
          "year": "2078-01-01"
         },
         {
          "model": "RCP 8.5",
          "value": 1.0122875,
          "variable": "CH4_RF",
          "year": "2079-01-01"
         },
         {
          "model": "RCP 8.5",
          "value": 1.0161931,
          "variable": "CH4_RF",
          "year": "2080-01-01"
         },
         {
          "model": "RCP 8.5",
          "value": 1.0200526,
          "variable": "CH4_RF",
          "year": "2081-01-01"
         },
         {
          "model": "RCP 8.5",
          "value": 1.0239124,
          "variable": "CH4_RF",
          "year": "2082-01-01"
         },
         {
          "model": "RCP 8.5",
          "value": 1.0277998,
          "variable": "CH4_RF",
          "year": "2083-01-01"
         },
         {
          "model": "RCP 8.5",
          "value": 1.0317032,
          "variable": "CH4_RF",
          "year": "2084-01-01"
         },
         {
          "model": "RCP 8.5",
          "value": 1.0356166,
          "variable": "CH4_RF",
          "year": "2085-01-01"
         },
         {
          "model": "RCP 8.5",
          "value": 1.0395349,
          "variable": "CH4_RF",
          "year": "2086-01-01"
         },
         {
          "model": "RCP 8.5",
          "value": 1.043415,
          "variable": "CH4_RF",
          "year": "2087-01-01"
         },
         {
          "model": "RCP 8.5",
          "value": 1.047229,
          "variable": "CH4_RF",
          "year": "2088-01-01"
         },
         {
          "model": "RCP 8.5",
          "value": 1.0510053,
          "variable": "CH4_RF",
          "year": "2089-01-01"
         },
         {
          "model": "RCP 8.5",
          "value": 1.0547683,
          "variable": "CH4_RF",
          "year": "2090-01-01"
         },
         {
          "model": "RCP 8.5",
          "value": 1.05854,
          "variable": "CH4_RF",
          "year": "2091-01-01"
         },
         {
          "model": "RCP 8.5",
          "value": 1.0621982,
          "variable": "CH4_RF",
          "year": "2092-01-01"
         },
         {
          "model": "RCP 8.5",
          "value": 1.0656109,
          "variable": "CH4_RF",
          "year": "2093-01-01"
         },
         {
          "model": "RCP 8.5",
          "value": 1.0687864,
          "variable": "CH4_RF",
          "year": "2094-01-01"
         },
         {
          "model": "RCP 8.5",
          "value": 1.0717352,
          "variable": "CH4_RF",
          "year": "2095-01-01"
         },
         {
          "model": "RCP 8.5",
          "value": 1.0744723999999999,
          "variable": "CH4_RF",
          "year": "2096-01-01"
         },
         {
          "model": "RCP 8.5",
          "value": 1.0770124,
          "variable": "CH4_RF",
          "year": "2097-01-01"
         },
         {
          "model": "RCP 8.5",
          "value": 1.0793288,
          "variable": "CH4_RF",
          "year": "2098-01-01"
         },
         {
          "model": "RCP 8.5",
          "value": 1.0814087,
          "variable": "CH4_RF",
          "year": "2099-01-01"
         },
         {
          "model": "RCP 8.5",
          "value": 1.0832964,
          "variable": "CH4_RF",
          "year": "2100-01-01"
         },
         {
          "model": "RCP 8.5",
          "value": 1.0850329,
          "variable": "CH4_RF",
          "year": "2101-01-01"
         },
         {
          "model": "RCP 8.5",
          "value": 1.0865844,
          "variable": "CH4_RF",
          "year": "2102-01-01"
         },
         {
          "model": "RCP 8.5",
          "value": 1.0879219,
          "variable": "CH4_RF",
          "year": "2103-01-01"
         },
         {
          "model": "RCP 8.5",
          "value": 1.0890694,
          "variable": "CH4_RF",
          "year": "2104-01-01"
         },
         {
          "model": "RCP 8.5",
          "value": 1.0900308,
          "variable": "CH4_RF",
          "year": "2105-01-01"
         },
         {
          "model": "RCP 8.5",
          "value": 1.0908128,
          "variable": "CH4_RF",
          "year": "2106-01-01"
         },
         {
          "model": "RCP 8.5",
          "value": 1.0914268,
          "variable": "CH4_RF",
          "year": "2107-01-01"
         },
         {
          "model": "RCP 8.5",
          "value": 1.0918839,
          "variable": "CH4_RF",
          "year": "2108-01-01"
         },
         {
          "model": "RCP 8.5",
          "value": 1.0921545,
          "variable": "CH4_RF",
          "year": "2109-01-01"
         },
         {
          "model": "RCP 8.5",
          "value": 1.0922224,
          "variable": "CH4_RF",
          "year": "2110-01-01"
         },
         {
          "model": "RCP 8.5",
          "value": 1.0921298,
          "variable": "CH4_RF",
          "year": "2111-01-01"
         },
         {
          "model": "RCP 8.5",
          "value": 1.0919161,
          "variable": "CH4_RF",
          "year": "2112-01-01"
         },
         {
          "model": "RCP 8.5",
          "value": 1.0916151,
          "variable": "CH4_RF",
          "year": "2113-01-01"
         },
         {
          "model": "RCP 8.5",
          "value": 1.0912611,
          "variable": "CH4_RF",
          "year": "2114-01-01"
         },
         {
          "model": "RCP 8.5",
          "value": 1.0908652,
          "variable": "CH4_RF",
          "year": "2115-01-01"
         },
         {
          "model": "RCP 8.5",
          "value": 1.0904192,
          "variable": "CH4_RF",
          "year": "2116-01-01"
         },
         {
          "model": "RCP 8.5",
          "value": 1.0899182,
          "variable": "CH4_RF",
          "year": "2117-01-01"
         },
         {
          "model": "RCP 8.5",
          "value": 1.0893631,
          "variable": "CH4_RF",
          "year": "2118-01-01"
         },
         {
          "model": "RCP 8.5",
          "value": 1.088756,
          "variable": "CH4_RF",
          "year": "2119-01-01"
         },
         {
          "model": "RCP 8.5",
          "value": 1.0880582,
          "variable": "CH4_RF",
          "year": "2120-01-01"
         },
         {
          "model": "RCP 8.5",
          "value": 1.087245,
          "variable": "CH4_RF",
          "year": "2121-01-01"
         },
         {
          "model": "RCP 8.5",
          "value": 1.0863515,
          "variable": "CH4_RF",
          "year": "2122-01-01"
         },
         {
          "model": "RCP 8.5",
          "value": 1.0854115,
          "variable": "CH4_RF",
          "year": "2123-01-01"
         },
         {
          "model": "RCP 8.5",
          "value": 1.0844534,
          "variable": "CH4_RF",
          "year": "2124-01-01"
         },
         {
          "model": "RCP 8.5",
          "value": 1.0835063,
          "variable": "CH4_RF",
          "year": "2125-01-01"
         },
         {
          "model": "RCP 8.5",
          "value": 1.0825763,
          "variable": "CH4_RF",
          "year": "2126-01-01"
         },
         {
          "model": "RCP 8.5",
          "value": 1.0816503,
          "variable": "CH4_RF",
          "year": "2127-01-01"
         },
         {
          "model": "RCP 8.5",
          "value": 1.0807185,
          "variable": "CH4_RF",
          "year": "2128-01-01"
         },
         {
          "model": "RCP 8.5",
          "value": 1.0797775,
          "variable": "CH4_RF",
          "year": "2129-01-01"
         },
         {
          "model": "RCP 8.5",
          "value": 1.0788253,
          "variable": "CH4_RF",
          "year": "2130-01-01"
         },
         {
          "model": "RCP 8.5",
          "value": 1.0778197999999999,
          "variable": "CH4_RF",
          "year": "2131-01-01"
         },
         {
          "model": "RCP 8.5",
          "value": 1.0767326,
          "variable": "CH4_RF",
          "year": "2132-01-01"
         },
         {
          "model": "RCP 8.5",
          "value": 1.0755959,
          "variable": "CH4_RF",
          "year": "2133-01-01"
         },
         {
          "model": "RCP 8.5",
          "value": 1.0744414,
          "variable": "CH4_RF",
          "year": "2134-01-01"
         },
         {
          "model": "RCP 8.5",
          "value": 1.0732958,
          "variable": "CH4_RF",
          "year": "2135-01-01"
         },
         {
          "model": "RCP 8.5",
          "value": 1.0721862,
          "variable": "CH4_RF",
          "year": "2136-01-01"
         },
         {
          "model": "RCP 8.5",
          "value": 1.0711172,
          "variable": "CH4_RF",
          "year": "2137-01-01"
         },
         {
          "model": "RCP 8.5",
          "value": 1.0700733,
          "variable": "CH4_RF",
          "year": "2138-01-01"
         },
         {
          "model": "RCP 8.5",
          "value": 1.0690425000000001,
          "variable": "CH4_RF",
          "year": "2139-01-01"
         },
         {
          "model": "RCP 8.5",
          "value": 1.0680195,
          "variable": "CH4_RF",
          "year": "2140-01-01"
         },
         {
          "model": "RCP 8.5",
          "value": 1.0670007,
          "variable": "CH4_RF",
          "year": "2141-01-01"
         },
         {
          "model": "RCP 8.5",
          "value": 1.0659424,
          "variable": "CH4_RF",
          "year": "2142-01-01"
         },
         {
          "model": "RCP 8.5",
          "value": 1.0648144,
          "variable": "CH4_RF",
          "year": "2143-01-01"
         },
         {
          "model": "RCP 8.5",
          "value": 1.0636476,
          "variable": "CH4_RF",
          "year": "2144-01-01"
         },
         {
          "model": "RCP 8.5",
          "value": 1.0624735,
          "variable": "CH4_RF",
          "year": "2145-01-01"
         },
         {
          "model": "RCP 8.5",
          "value": 1.0613182,
          "variable": "CH4_RF",
          "year": "2146-01-01"
         },
         {
          "model": "RCP 8.5",
          "value": 1.0602087,
          "variable": "CH4_RF",
          "year": "2147-01-01"
         },
         {
          "model": "RCP 8.5",
          "value": 1.0591485,
          "variable": "CH4_RF",
          "year": "2148-01-01"
         },
         {
          "model": "RCP 8.5",
          "value": 1.0581217,
          "variable": "CH4_RF",
          "year": "2149-01-01"
         },
         {
          "model": "RCP 8.5",
          "value": 1.0571148,
          "variable": "CH4_RF",
          "year": "2150-01-01"
         },
         {
          "model": "RCP 8.5",
          "value": 1.0561215,
          "variable": "CH4_RF",
          "year": "2151-01-01"
         },
         {
          "model": "RCP 8.5",
          "value": 1.055145,
          "variable": "CH4_RF",
          "year": "2152-01-01"
         },
         {
          "model": "RCP 8.5",
          "value": 1.0541481,
          "variable": "CH4_RF",
          "year": "2153-01-01"
         },
         {
          "model": "RCP 8.5",
          "value": 1.0530989,
          "variable": "CH4_RF",
          "year": "2154-01-01"
         },
         {
          "model": "RCP 8.5",
          "value": 1.0520269,
          "variable": "CH4_RF",
          "year": "2155-01-01"
         },
         {
          "model": "RCP 8.5",
          "value": 1.0509633,
          "variable": "CH4_RF",
          "year": "2156-01-01"
         },
         {
          "model": "RCP 8.5",
          "value": 1.0499341,
          "variable": "CH4_RF",
          "year": "2157-01-01"
         },
         {
          "model": "RCP 8.5",
          "value": 1.0489655,
          "variable": "CH4_RF",
          "year": "2158-01-01"
         },
         {
          "model": "RCP 8.5",
          "value": 1.048061,
          "variable": "CH4_RF",
          "year": "2159-01-01"
         },
         {
          "model": "RCP 8.5",
          "value": 1.0472036,
          "variable": "CH4_RF",
          "year": "2160-01-01"
         },
         {
          "model": "RCP 8.5",
          "value": 1.0463788,
          "variable": "CH4_RF",
          "year": "2161-01-01"
         },
         {
          "model": "RCP 8.5",
          "value": 1.0455795,
          "variable": "CH4_RF",
          "year": "2162-01-01"
         },
         {
          "model": "RCP 8.5",
          "value": 1.0448006,
          "variable": "CH4_RF",
          "year": "2163-01-01"
         },
         {
          "model": "RCP 8.5",
          "value": 1.0439972,
          "variable": "CH4_RF",
          "year": "2164-01-01"
         },
         {
          "model": "RCP 8.5",
          "value": 1.0431373,
          "variable": "CH4_RF",
          "year": "2165-01-01"
         },
         {
          "model": "RCP 8.5",
          "value": 1.0422505,
          "variable": "CH4_RF",
          "year": "2166-01-01"
         },
         {
          "model": "RCP 8.5",
          "value": 1.0413687,
          "variable": "CH4_RF",
          "year": "2167-01-01"
         },
         {
          "model": "RCP 8.5",
          "value": 1.0405185,
          "variable": "CH4_RF",
          "year": "2168-01-01"
         },
         {
          "model": "RCP 8.5",
          "value": 1.0397268,
          "variable": "CH4_RF",
          "year": "2169-01-01"
         },
         {
          "model": "RCP 8.5",
          "value": 1.0389972,
          "variable": "CH4_RF",
          "year": "2170-01-01"
         },
         {
          "model": "RCP 8.5",
          "value": 1.0383125,
          "variable": "CH4_RF",
          "year": "2171-01-01"
         },
         {
          "model": "RCP 8.5",
          "value": 1.0376583,
          "variable": "CH4_RF",
          "year": "2172-01-01"
         },
         {
          "model": "RCP 8.5",
          "value": 1.0370269,
          "variable": "CH4_RF",
          "year": "2173-01-01"
         },
         {
          "model": "RCP 8.5",
          "value": 1.0364133,
          "variable": "CH4_RF",
          "year": "2174-01-01"
         },
         {
          "model": "RCP 8.5",
          "value": 1.0357726,
          "variable": "CH4_RF",
          "year": "2175-01-01"
         },
         {
          "model": "RCP 8.5",
          "value": 1.0350725,
          "variable": "CH4_RF",
          "year": "2176-01-01"
         },
         {
          "model": "RCP 8.5",
          "value": 1.0343429,
          "variable": "CH4_RF",
          "year": "2177-01-01"
         },
         {
          "model": "RCP 8.5",
          "value": 1.033616,
          "variable": "CH4_RF",
          "year": "2178-01-01"
         },
         {
          "model": "RCP 8.5",
          "value": 1.0329189,
          "variable": "CH4_RF",
          "year": "2179-01-01"
         },
         {
          "model": "RCP 8.5",
          "value": 1.0322787,
          "variable": "CH4_RF",
          "year": "2180-01-01"
         },
         {
          "model": "RCP 8.5",
          "value": 1.0316991,
          "variable": "CH4_RF",
          "year": "2181-01-01"
         },
         {
          "model": "RCP 8.5",
          "value": 1.0311628,
          "variable": "CH4_RF",
          "year": "2182-01-01"
         },
         {
          "model": "RCP 8.5",
          "value": 1.030655,
          "variable": "CH4_RF",
          "year": "2183-01-01"
         },
         {
          "model": "RCP 8.5",
          "value": 1.030168,
          "variable": "CH4_RF",
          "year": "2184-01-01"
         },
         {
          "model": "RCP 8.5",
          "value": 1.0296966,
          "variable": "CH4_RF",
          "year": "2185-01-01"
         },
         {
          "model": "RCP 8.5",
          "value": 1.029196,
          "variable": "CH4_RF",
          "year": "2186-01-01"
         },
         {
          "model": "RCP 8.5",
          "value": 1.028634,
          "variable": "CH4_RF",
          "year": "2187-01-01"
         },
         {
          "model": "RCP 8.5",
          "value": 1.0280405,
          "variable": "CH4_RF",
          "year": "2188-01-01"
         },
         {
          "model": "RCP 8.5",
          "value": 1.027448,
          "variable": "CH4_RF",
          "year": "2189-01-01"
         },
         {
          "model": "RCP 8.5",
          "value": 1.026884,
          "variable": "CH4_RF",
          "year": "2190-01-01"
         },
         {
          "model": "RCP 8.5",
          "value": 1.0263755,
          "variable": "CH4_RF",
          "year": "2191-01-01"
         },
         {
          "model": "RCP 8.5",
          "value": 1.0259263,
          "variable": "CH4_RF",
          "year": "2192-01-01"
         },
         {
          "model": "RCP 8.5",
          "value": 1.0255189,
          "variable": "CH4_RF",
          "year": "2193-01-01"
         },
         {
          "model": "RCP 8.5",
          "value": 1.0251383,
          "variable": "CH4_RF",
          "year": "2194-01-01"
         },
         {
          "model": "RCP 8.5",
          "value": 1.0247768,
          "variable": "CH4_RF",
          "year": "2195-01-01"
         },
         {
          "model": "RCP 8.5",
          "value": 1.024429,
          "variable": "CH4_RF",
          "year": "2196-01-01"
         },
         {
          "model": "RCP 8.5",
          "value": 1.0240503,
          "variable": "CH4_RF",
          "year": "2197-01-01"
         },
         {
          "model": "RCP 8.5",
          "value": 1.0236086,
          "variable": "CH4_RF",
          "year": "2198-01-01"
         },
         {
          "model": "RCP 8.5",
          "value": 1.0231339,
          "variable": "CH4_RF",
          "year": "2199-01-01"
         },
         {
          "model": "RCP 8.5",
          "value": 1.0226589,
          "variable": "CH4_RF",
          "year": "2200-01-01"
         },
         {
          "model": "RCP 8.5",
          "value": 0.1450297,
          "variable": "N2O_RF",
          "year": "2001-01-01"
         },
         {
          "model": "RCP 8.5",
          "value": 0.14743728,
          "variable": "N2O_RF",
          "year": "2002-01-01"
         },
         {
          "model": "RCP 8.5",
          "value": 0.14988963,
          "variable": "N2O_RF",
          "year": "2003-01-01"
         },
         {
          "model": "RCP 8.5",
          "value": 0.15208552,
          "variable": "N2O_RF",
          "year": "2004-01-01"
         },
         {
          "model": "RCP 8.5",
          "value": 0.15439741,
          "variable": "N2O_RF",
          "year": "2005-01-01"
         },
         {
          "model": "RCP 8.5",
          "value": 0.15680074,
          "variable": "N2O_RF",
          "year": "2006-01-01"
         },
         {
          "model": "RCP 8.5",
          "value": 0.1589991,
          "variable": "N2O_RF",
          "year": "2007-01-01"
         },
         {
          "model": "RCP 8.5",
          "value": 0.16123626,
          "variable": "N2O_RF",
          "year": "2008-01-01"
         },
         {
          "model": "RCP 8.5",
          "value": 0.16351256,
          "variable": "N2O_RF",
          "year": "2009-01-01"
         },
         {
          "model": "RCP 8.5",
          "value": 0.16582697,
          "variable": "N2O_RF",
          "year": "2010-01-01"
         },
         {
          "model": "RCP 8.5",
          "value": 0.16817976,
          "variable": "N2O_RF",
          "year": "2011-01-01"
         },
         {
          "model": "RCP 8.5",
          "value": 0.17058666,
          "variable": "N2O_RF",
          "year": "2012-01-01"
         },
         {
          "model": "RCP 8.5",
          "value": 0.1730623,
          "variable": "N2O_RF",
          "year": "2013-01-01"
         },
         {
          "model": "RCP 8.5",
          "value": 0.17560604,
          "variable": "N2O_RF",
          "year": "2014-01-01"
         },
         {
          "model": "RCP 8.5",
          "value": 0.17821725,
          "variable": "N2O_RF",
          "year": "2015-01-01"
         },
         {
          "model": "RCP 8.5",
          "value": 0.18089524,
          "variable": "N2O_RF",
          "year": "2016-01-01"
         },
         {
          "model": "RCP 8.5",
          "value": 0.18363917,
          "variable": "N2O_RF",
          "year": "2017-01-01"
         },
         {
          "model": "RCP 8.5",
          "value": 0.18644815,
          "variable": "N2O_RF",
          "year": "2018-01-01"
         },
         {
          "model": "RCP 8.5",
          "value": 0.18932128,
          "variable": "N2O_RF",
          "year": "2019-01-01"
         },
         {
          "model": "RCP 8.5",
          "value": 0.19225766,
          "variable": "N2O_RF",
          "year": "2020-01-01"
         },
         {
          "model": "RCP 8.5",
          "value": 0.19525643,
          "variable": "N2O_RF",
          "year": "2021-01-01"
         },
         {
          "model": "RCP 8.5",
          "value": 0.19831092,
          "variable": "N2O_RF",
          "year": "2022-01-01"
         },
         {
          "model": "RCP 8.5",
          "value": 0.20141455,
          "variable": "N2O_RF",
          "year": "2023-01-01"
         },
         {
          "model": "RCP 8.5",
          "value": 0.2045665,
          "variable": "N2O_RF",
          "year": "2024-01-01"
         },
         {
          "model": "RCP 8.5",
          "value": 0.20776597,
          "variable": "N2O_RF",
          "year": "2025-01-01"
         },
         {
          "model": "RCP 8.5",
          "value": 0.21101216,
          "variable": "N2O_RF",
          "year": "2026-01-01"
         },
         {
          "model": "RCP 8.5",
          "value": 0.21430437,
          "variable": "N2O_RF",
          "year": "2027-01-01"
         },
         {
          "model": "RCP 8.5",
          "value": 0.21764189,
          "variable": "N2O_RF",
          "year": "2028-01-01"
         },
         {
          "model": "RCP 8.5",
          "value": 0.22102405,
          "variable": "N2O_RF",
          "year": "2029-01-01"
         },
         {
          "model": "RCP 8.5",
          "value": 0.22445017,
          "variable": "N2O_RF",
          "year": "2030-01-01"
         },
         {
          "model": "RCP 8.5",
          "value": 0.22791957,
          "variable": "N2O_RF",
          "year": "2031-01-01"
         },
         {
          "model": "RCP 8.5",
          "value": 0.23143238,
          "variable": "N2O_RF",
          "year": "2032-01-01"
         },
         {
          "model": "RCP 8.5",
          "value": 0.23498875,
          "variable": "N2O_RF",
          "year": "2033-01-01"
         },
         {
          "model": "RCP 8.5",
          "value": 0.23858802,
          "variable": "N2O_RF",
          "year": "2034-01-01"
         },
         {
          "model": "RCP 8.5",
          "value": 0.24222951,
          "variable": "N2O_RF",
          "year": "2035-01-01"
         },
         {
          "model": "RCP 8.5",
          "value": 0.24591259,
          "variable": "N2O_RF",
          "year": "2036-01-01"
         },
         {
          "model": "RCP 8.5",
          "value": 0.24963658,
          "variable": "N2O_RF",
          "year": "2037-01-01"
         },
         {
          "model": "RCP 8.5",
          "value": 0.25340083,
          "variable": "N2O_RF",
          "year": "2038-01-01"
         },
         {
          "model": "RCP 8.5",
          "value": 0.25720469,
          "variable": "N2O_RF",
          "year": "2039-01-01"
         },
         {
          "model": "RCP 8.5",
          "value": 0.26104753,
          "variable": "N2O_RF",
          "year": "2040-01-01"
         },
         {
          "model": "RCP 8.5",
          "value": 0.2649287,
          "variable": "N2O_RF",
          "year": "2041-01-01"
         },
         {
          "model": "RCP 8.5",
          "value": 0.26883262,
          "variable": "N2O_RF",
          "year": "2042-01-01"
         },
         {
          "model": "RCP 8.5",
          "value": 0.27274379,
          "variable": "N2O_RF",
          "year": "2043-01-01"
         },
         {
          "model": "RCP 8.5",
          "value": 0.27666177,
          "variable": "N2O_RF",
          "year": "2044-01-01"
         },
         {
          "model": "RCP 8.5",
          "value": 0.28058613,
          "variable": "N2O_RF",
          "year": "2045-01-01"
         },
         {
          "model": "RCP 8.5",
          "value": 0.28451651,
          "variable": "N2O_RF",
          "year": "2046-01-01"
         },
         {
          "model": "RCP 8.5",
          "value": 0.28845268,
          "variable": "N2O_RF",
          "year": "2047-01-01"
         },
         {
          "model": "RCP 8.5",
          "value": 0.29239448,
          "variable": "N2O_RF",
          "year": "2048-01-01"
         },
         {
          "model": "RCP 8.5",
          "value": 0.29634174,
          "variable": "N2O_RF",
          "year": "2049-01-01"
         },
         {
          "model": "RCP 8.5",
          "value": 0.30029432,
          "variable": "N2O_RF",
          "year": "2050-01-01"
         },
         {
          "model": "RCP 8.5",
          "value": 0.30425205,
          "variable": "N2O_RF",
          "year": "2051-01-01"
         },
         {
          "model": "RCP 8.5",
          "value": 0.30821047,
          "variable": "N2O_RF",
          "year": "2052-01-01"
         },
         {
          "model": "RCP 8.5",
          "value": 0.3121651,
          "variable": "N2O_RF",
          "year": "2053-01-01"
         },
         {
          "model": "RCP 8.5",
          "value": 0.31611587,
          "variable": "N2O_RF",
          "year": "2054-01-01"
         },
         {
          "model": "RCP 8.5",
          "value": 0.32006266,
          "variable": "N2O_RF",
          "year": "2055-01-01"
         },
         {
          "model": "RCP 8.5",
          "value": 0.32400542,
          "variable": "N2O_RF",
          "year": "2056-01-01"
         },
         {
          "model": "RCP 8.5",
          "value": 0.32794412,
          "variable": "N2O_RF",
          "year": "2057-01-01"
         },
         {
          "model": "RCP 8.5",
          "value": 0.33187872,
          "variable": "N2O_RF",
          "year": "2058-01-01"
         },
         {
          "model": "RCP 8.5",
          "value": 0.33580923,
          "variable": "N2O_RF",
          "year": "2059-01-01"
         },
         {
          "model": "RCP 8.5",
          "value": 0.33973563,
          "variable": "N2O_RF",
          "year": "2060-01-01"
         },
         {
          "model": "RCP 8.5",
          "value": 0.34365791,
          "variable": "N2O_RF",
          "year": "2061-01-01"
         },
         {
          "model": "RCP 8.5",
          "value": 0.34757284,
          "variable": "N2O_RF",
          "year": "2062-01-01"
         },
         {
          "model": "RCP 8.5",
          "value": 0.35147724,
          "variable": "N2O_RF",
          "year": "2063-01-01"
         },
         {
          "model": "RCP 8.5",
          "value": 0.35537111,
          "variable": "N2O_RF",
          "year": "2064-01-01"
         },
         {
          "model": "RCP 8.5",
          "value": 0.35925449,
          "variable": "N2O_RF",
          "year": "2065-01-01"
         },
         {
          "model": "RCP 8.5",
          "value": 0.36312743,
          "variable": "N2O_RF",
          "year": "2066-01-01"
         },
         {
          "model": "RCP 8.5",
          "value": 0.36698997,
          "variable": "N2O_RF",
          "year": "2067-01-01"
         },
         {
          "model": "RCP 8.5",
          "value": 0.37084222,
          "variable": "N2O_RF",
          "year": "2068-01-01"
         },
         {
          "model": "RCP 8.5",
          "value": 0.37468424,
          "variable": "N2O_RF",
          "year": "2069-01-01"
         },
         {
          "model": "RCP 8.5",
          "value": 0.37851611,
          "variable": "N2O_RF",
          "year": "2070-01-01"
         },
         {
          "model": "RCP 8.5",
          "value": 0.38233791,
          "variable": "N2O_RF",
          "year": "2071-01-01"
         },
         {
          "model": "RCP 8.5",
          "value": 0.38615266,
          "variable": "N2O_RF",
          "year": "2072-01-01"
         },
         {
          "model": "RCP 8.5",
          "value": 0.38996335,
          "variable": "N2O_RF",
          "year": "2073-01-01"
         },
         {
          "model": "RCP 8.5",
          "value": 0.39377004,
          "variable": "N2O_RF",
          "year": "2074-01-01"
         },
         {
          "model": "RCP 8.5",
          "value": 0.39757275,
          "variable": "N2O_RF",
          "year": "2075-01-01"
         },
         {
          "model": "RCP 8.5",
          "value": 0.40137153,
          "variable": "N2O_RF",
          "year": "2076-01-01"
         },
         {
          "model": "RCP 8.5",
          "value": 0.40516637,
          "variable": "N2O_RF",
          "year": "2077-01-01"
         },
         {
          "model": "RCP 8.5",
          "value": 0.40895727,
          "variable": "N2O_RF",
          "year": "2078-01-01"
         },
         {
          "model": "RCP 8.5",
          "value": 0.41274422,
          "variable": "N2O_RF",
          "year": "2079-01-01"
         },
         {
          "model": "RCP 8.5",
          "value": 0.41652721,
          "variable": "N2O_RF",
          "year": "2080-01-01"
         },
         {
          "model": "RCP 8.5",
          "value": 0.42030624,
          "variable": "N2O_RF",
          "year": "2081-01-01"
         },
         {
          "model": "RCP 8.5",
          "value": 0.42408464,
          "variable": "N2O_RF",
          "year": "2082-01-01"
         },
         {
          "model": "RCP 8.5",
          "value": 0.42786575,
          "variable": "N2O_RF",
          "year": "2083-01-01"
         },
         {
          "model": "RCP 8.5",
          "value": 0.4316495,
          "variable": "N2O_RF",
          "year": "2084-01-01"
         },
         {
          "model": "RCP 8.5",
          "value": 0.43543588,
          "variable": "N2O_RF",
          "year": "2085-01-01"
         },
         {
          "model": "RCP 8.5",
          "value": 0.43922481,
          "variable": "N2O_RF",
          "year": "2086-01-01"
         },
         {
          "model": "RCP 8.5",
          "value": 0.44301621,
          "variable": "N2O_RF",
          "year": "2087-01-01"
         },
         {
          "model": "RCP 8.5",
          "value": 0.44680999,
          "variable": "N2O_RF",
          "year": "2088-01-01"
         },
         {
          "model": "RCP 8.5",
          "value": 0.45060604,
          "variable": "N2O_RF",
          "year": "2089-01-01"
         },
         {
          "model": "RCP 8.5",
          "value": 0.45440429,
          "variable": "N2O_RF",
          "year": "2090-01-01"
         },
         {
          "model": "RCP 8.5",
          "value": 0.45820462,
          "variable": "N2O_RF",
          "year": "2091-01-01"
         },
         {
          "model": "RCP 8.5",
          "value": 0.46199979,
          "variable": "N2O_RF",
          "year": "2092-01-01"
         },
         {
          "model": "RCP 8.5",
          "value": 0.46578261,
          "variable": "N2O_RF",
          "year": "2093-01-01"
         },
         {
          "model": "RCP 8.5",
          "value": 0.46955305,
          "variable": "N2O_RF",
          "year": "2094-01-01"
         },
         {
          "model": "RCP 8.5",
          "value": 0.4733111,
          "variable": "N2O_RF",
          "year": "2095-01-01"
         },
         {
          "model": "RCP 8.5",
          "value": 0.47705678,
          "variable": "N2O_RF",
          "year": "2096-01-01"
         },
         {
          "model": "RCP 8.5",
          "value": 0.48079017,
          "variable": "N2O_RF",
          "year": "2097-01-01"
         },
         {
          "model": "RCP 8.5",
          "value": 0.48451138,
          "variable": "N2O_RF",
          "year": "2098-01-01"
         },
         {
          "model": "RCP 8.5",
          "value": 0.4882205,
          "variable": "N2O_RF",
          "year": "2099-01-01"
         },
         {
          "model": "RCP 8.5",
          "value": 0.49191766,
          "variable": "N2O_RF",
          "year": "2100-01-01"
         },
         {
          "model": "RCP 8.5",
          "value": 0.49560296,
          "variable": "N2O_RF",
          "year": "2101-01-01"
         },
         {
          "model": "RCP 8.5",
          "value": 0.49926297,
          "variable": "N2O_RF",
          "year": "2102-01-01"
         },
         {
          "model": "RCP 8.5",
          "value": 0.50288434,
          "variable": "N2O_RF",
          "year": "2103-01-01"
         },
         {
          "model": "RCP 8.5",
          "value": 0.50646731,
          "variable": "N2O_RF",
          "year": "2104-01-01"
         },
         {
          "model": "RCP 8.5",
          "value": 0.51001211,
          "variable": "N2O_RF",
          "year": "2105-01-01"
         },
         {
          "model": "RCP 8.5",
          "value": 0.51351904,
          "variable": "N2O_RF",
          "year": "2106-01-01"
         },
         {
          "model": "RCP 8.5",
          "value": 0.51698848,
          "variable": "N2O_RF",
          "year": "2107-01-01"
         },
         {
          "model": "RCP 8.5",
          "value": 0.5204209,
          "variable": "N2O_RF",
          "year": "2108-01-01"
         },
         {
          "model": "RCP 8.5",
          "value": 0.52381674,
          "variable": "N2O_RF",
          "year": "2109-01-01"
         },
         {
          "model": "RCP 8.5",
          "value": 0.52717645,
          "variable": "N2O_RF",
          "year": "2110-01-01"
         },
         {
          "model": "RCP 8.5",
          "value": 0.53050045,
          "variable": "N2O_RF",
          "year": "2111-01-01"
         },
         {
          "model": "RCP 8.5",
          "value": 0.53378919,
          "variable": "N2O_RF",
          "year": "2112-01-01"
         },
         {
          "model": "RCP 8.5",
          "value": 0.53704308,
          "variable": "N2O_RF",
          "year": "2113-01-01"
         },
         {
          "model": "RCP 8.5",
          "value": 0.54026255,
          "variable": "N2O_RF",
          "year": "2114-01-01"
         },
         {
          "model": "RCP 8.5",
          "value": 0.543448,
          "variable": "N2O_RF",
          "year": "2115-01-01"
         },
         {
          "model": "RCP 8.5",
          "value": 0.54659984,
          "variable": "N2O_RF",
          "year": "2116-01-01"
         },
         {
          "model": "RCP 8.5",
          "value": 0.54971848,
          "variable": "N2O_RF",
          "year": "2117-01-01"
         },
         {
          "model": "RCP 8.5",
          "value": 0.5528043,
          "variable": "N2O_RF",
          "year": "2118-01-01"
         },
         {
          "model": "RCP 8.5",
          "value": 0.55585769,
          "variable": "N2O_RF",
          "year": "2119-01-01"
         },
         {
          "model": "RCP 8.5",
          "value": 0.55887903,
          "variable": "N2O_RF",
          "year": "2120-01-01"
         },
         {
          "model": "RCP 8.5",
          "value": 0.56186871,
          "variable": "N2O_RF",
          "year": "2121-01-01"
         },
         {
          "model": "RCP 8.5",
          "value": 0.56482709,
          "variable": "N2O_RF",
          "year": "2122-01-01"
         },
         {
          "model": "RCP 8.5",
          "value": 0.56775454,
          "variable": "N2O_RF",
          "year": "2123-01-01"
         },
         {
          "model": "RCP 8.5",
          "value": 0.57065143,
          "variable": "N2O_RF",
          "year": "2124-01-01"
         },
         {
          "model": "RCP 8.5",
          "value": 0.5735181,
          "variable": "N2O_RF",
          "year": "2125-01-01"
         },
         {
          "model": "RCP 8.5",
          "value": 0.57635491,
          "variable": "N2O_RF",
          "year": "2126-01-01"
         },
         {
          "model": "RCP 8.5",
          "value": 0.57916221,
          "variable": "N2O_RF",
          "year": "2127-01-01"
         },
         {
          "model": "RCP 8.5",
          "value": 0.58194033,
          "variable": "N2O_RF",
          "year": "2128-01-01"
         },
         {
          "model": "RCP 8.5",
          "value": 0.58468962,
          "variable": "N2O_RF",
          "year": "2129-01-01"
         },
         {
          "model": "RCP 8.5",
          "value": 0.58741041,
          "variable": "N2O_RF",
          "year": "2130-01-01"
         },
         {
          "model": "RCP 8.5",
          "value": 0.59010301,
          "variable": "N2O_RF",
          "year": "2131-01-01"
         },
         {
          "model": "RCP 8.5",
          "value": 0.59276776,
          "variable": "N2O_RF",
          "year": "2132-01-01"
         },
         {
          "model": "RCP 8.5",
          "value": 0.59540498,
          "variable": "N2O_RF",
          "year": "2133-01-01"
         },
         {
          "model": "RCP 8.5",
          "value": 0.59801497,
          "variable": "N2O_RF",
          "year": "2134-01-01"
         },
         {
          "model": "RCP 8.5",
          "value": 0.60059806,
          "variable": "N2O_RF",
          "year": "2135-01-01"
         },
         {
          "model": "RCP 8.5",
          "value": 0.60315454,
          "variable": "N2O_RF",
          "year": "2136-01-01"
         },
         {
          "model": "RCP 8.5",
          "value": 0.60568471,
          "variable": "N2O_RF",
          "year": "2137-01-01"
         },
         {
          "model": "RCP 8.5",
          "value": 0.60818888,
          "variable": "N2O_RF",
          "year": "2138-01-01"
         },
         {
          "model": "RCP 8.5",
          "value": 0.61066733,
          "variable": "N2O_RF",
          "year": "2139-01-01"
         },
         {
          "model": "RCP 8.5",
          "value": 0.61312037,
          "variable": "N2O_RF",
          "year": "2140-01-01"
         },
         {
          "model": "RCP 8.5",
          "value": 0.61554826,
          "variable": "N2O_RF",
          "year": "2141-01-01"
         },
         {
          "model": "RCP 8.5",
          "value": 0.6179513,
          "variable": "N2O_RF",
          "year": "2142-01-01"
         },
         {
          "model": "RCP 8.5",
          "value": 0.62032977,
          "variable": "N2O_RF",
          "year": "2143-01-01"
         },
         {
          "model": "RCP 8.5",
          "value": 0.62268393,
          "variable": "N2O_RF",
          "year": "2144-01-01"
         },
         {
          "model": "RCP 8.5",
          "value": 0.62501406,
          "variable": "N2O_RF",
          "year": "2145-01-01"
         },
         {
          "model": "RCP 8.5",
          "value": 0.62732043,
          "variable": "N2O_RF",
          "year": "2146-01-01"
         },
         {
          "model": "RCP 8.5",
          "value": 0.62960329,
          "variable": "N2O_RF",
          "year": "2147-01-01"
         },
         {
          "model": "RCP 8.5",
          "value": 0.63186293,
          "variable": "N2O_RF",
          "year": "2148-01-01"
         },
         {
          "model": "RCP 8.5",
          "value": 0.63409958,
          "variable": "N2O_RF",
          "year": "2149-01-01"
         },
         {
          "model": "RCP 8.5",
          "value": 0.6363135,
          "variable": "N2O_RF",
          "year": "2150-01-01"
         },
         {
          "model": "RCP 8.5",
          "value": 0.63850495,
          "variable": "N2O_RF",
          "year": "2151-01-01"
         },
         {
          "model": "RCP 8.5",
          "value": 0.64066759,
          "variable": "N2O_RF",
          "year": "2152-01-01"
         },
         {
          "model": "RCP 8.5",
          "value": 0.64279513,
          "variable": "N2O_RF",
          "year": "2153-01-01"
         },
         {
          "model": "RCP 8.5",
          "value": 0.64488783,
          "variable": "N2O_RF",
          "year": "2154-01-01"
         },
         {
          "model": "RCP 8.5",
          "value": 0.64694598,
          "variable": "N2O_RF",
          "year": "2155-01-01"
         },
         {
          "model": "RCP 8.5",
          "value": 0.64896988,
          "variable": "N2O_RF",
          "year": "2156-01-01"
         },
         {
          "model": "RCP 8.5",
          "value": 0.65095987,
          "variable": "N2O_RF",
          "year": "2157-01-01"
         },
         {
          "model": "RCP 8.5",
          "value": 0.65291634,
          "variable": "N2O_RF",
          "year": "2158-01-01"
         },
         {
          "model": "RCP 8.5",
          "value": 0.65483966,
          "variable": "N2O_RF",
          "year": "2159-01-01"
         },
         {
          "model": "RCP 8.5",
          "value": 0.65673019,
          "variable": "N2O_RF",
          "year": "2160-01-01"
         },
         {
          "model": "RCP 8.5",
          "value": 0.65858829,
          "variable": "N2O_RF",
          "year": "2161-01-01"
         },
         {
          "model": "RCP 8.5",
          "value": 0.66041433,
          "variable": "N2O_RF",
          "year": "2162-01-01"
         },
         {
          "model": "RCP 8.5",
          "value": 0.66220866,
          "variable": "N2O_RF",
          "year": "2163-01-01"
         },
         {
          "model": "RCP 8.5",
          "value": 0.66397163,
          "variable": "N2O_RF",
          "year": "2164-01-01"
         },
         {
          "model": "RCP 8.5",
          "value": 0.66570358,
          "variable": "N2O_RF",
          "year": "2165-01-01"
         },
         {
          "model": "RCP 8.5",
          "value": 0.66740485,
          "variable": "N2O_RF",
          "year": "2166-01-01"
         },
         {
          "model": "RCP 8.5",
          "value": 0.66907577,
          "variable": "N2O_RF",
          "year": "2167-01-01"
         },
         {
          "model": "RCP 8.5",
          "value": 0.67071668,
          "variable": "N2O_RF",
          "year": "2168-01-01"
         },
         {
          "model": "RCP 8.5",
          "value": 0.6723279,
          "variable": "N2O_RF",
          "year": "2169-01-01"
         },
         {
          "model": "RCP 8.5",
          "value": 0.67390975,
          "variable": "N2O_RF",
          "year": "2170-01-01"
         },
         {
          "model": "RCP 8.5",
          "value": 0.67546256,
          "variable": "N2O_RF",
          "year": "2171-01-01"
         },
         {
          "model": "RCP 8.5",
          "value": 0.67698663,
          "variable": "N2O_RF",
          "year": "2172-01-01"
         },
         {
          "model": "RCP 8.5",
          "value": 0.67848227,
          "variable": "N2O_RF",
          "year": "2173-01-01"
         },
         {
          "model": "RCP 8.5",
          "value": 0.67994978,
          "variable": "N2O_RF",
          "year": "2174-01-01"
         },
         {
          "model": "RCP 8.5",
          "value": 0.68138948,
          "variable": "N2O_RF",
          "year": "2175-01-01"
         },
         {
          "model": "RCP 8.5",
          "value": 0.68280166,
          "variable": "N2O_RF",
          "year": "2176-01-01"
         },
         {
          "model": "RCP 8.5",
          "value": 0.6841866,
          "variable": "N2O_RF",
          "year": "2177-01-01"
         },
         {
          "model": "RCP 8.5",
          "value": 0.6855446,
          "variable": "N2O_RF",
          "year": "2178-01-01"
         },
         {
          "model": "RCP 8.5",
          "value": 0.68687594,
          "variable": "N2O_RF",
          "year": "2179-01-01"
         },
         {
          "model": "RCP 8.5",
          "value": 0.68818092,
          "variable": "N2O_RF",
          "year": "2180-01-01"
         },
         {
          "model": "RCP 8.5",
          "value": 0.6894598,
          "variable": "N2O_RF",
          "year": "2181-01-01"
         },
         {
          "model": "RCP 8.5",
          "value": 0.69071285,
          "variable": "N2O_RF",
          "year": "2182-01-01"
         },
         {
          "model": "RCP 8.5",
          "value": 0.69194036,
          "variable": "N2O_RF",
          "year": "2183-01-01"
         },
         {
          "model": "RCP 8.5",
          "value": 0.69314259,
          "variable": "N2O_RF",
          "year": "2184-01-01"
         },
         {
          "model": "RCP 8.5",
          "value": 0.69431981,
          "variable": "N2O_RF",
          "year": "2185-01-01"
         },
         {
          "model": "RCP 8.5",
          "value": 0.69547227,
          "variable": "N2O_RF",
          "year": "2186-01-01"
         },
         {
          "model": "RCP 8.5",
          "value": 0.69660023,
          "variable": "N2O_RF",
          "year": "2187-01-01"
         },
         {
          "model": "RCP 8.5",
          "value": 0.69770396,
          "variable": "N2O_RF",
          "year": "2188-01-01"
         },
         {
          "model": "RCP 8.5",
          "value": 0.69878369,
          "variable": "N2O_RF",
          "year": "2189-01-01"
         },
         {
          "model": "RCP 8.5",
          "value": 0.69983969,
          "variable": "N2O_RF",
          "year": "2190-01-01"
         },
         {
          "model": "RCP 8.5",
          "value": 0.70087219,
          "variable": "N2O_RF",
          "year": "2191-01-01"
         },
         {
          "model": "RCP 8.5",
          "value": 0.70188143,
          "variable": "N2O_RF",
          "year": "2192-01-01"
         },
         {
          "model": "RCP 8.5",
          "value": 0.70286766,
          "variable": "N2O_RF",
          "year": "2193-01-01"
         },
         {
          "model": "RCP 8.5",
          "value": 0.70383112,
          "variable": "N2O_RF",
          "year": "2194-01-01"
         },
         {
          "model": "RCP 8.5",
          "value": 0.70477203,
          "variable": "N2O_RF",
          "year": "2195-01-01"
         },
         {
          "model": "RCP 8.5",
          "value": 0.70569063,
          "variable": "N2O_RF",
          "year": "2196-01-01"
         },
         {
          "model": "RCP 8.5",
          "value": 0.70658715,
          "variable": "N2O_RF",
          "year": "2197-01-01"
         },
         {
          "model": "RCP 8.5",
          "value": 0.7074618,
          "variable": "N2O_RF",
          "year": "2198-01-01"
         },
         {
          "model": "RCP 8.5",
          "value": 0.70831482,
          "variable": "N2O_RF",
          "year": "2199-01-01"
         },
         {
          "model": "RCP 8.5",
          "value": 0.70914643,
          "variable": "N2O_RF",
          "year": "2200-01-01"
         },
         {
          "model": "Mimi-Page-2009",
          "value": 1.7680438862001864,
          "variable": "CO2_RF",
          "year": "2009-01-01"
         },
         {
          "model": "Mimi-Page-2009",
          "value": 1.803999141899504,
          "variable": "CO2_RF",
          "year": "2010-01-01"
         },
         {
          "model": "Mimi-Page-2009",
          "value": 2.149565218759465,
          "variable": "CO2_RF",
          "year": "2020-01-01"
         },
         {
          "model": "Mimi-Page-2009",
          "value": 2.5566042451019935,
          "variable": "CO2_RF",
          "year": "2030-01-01"
         },
         {
          "model": "Mimi-Page-2009",
          "value": 2.9822709023679552,
          "variable": "CO2_RF",
          "year": "2040-01-01"
         },
         {
          "model": "Mimi-Page-2009",
          "value": 3.4157127436830006,
          "variable": "CO2_RF",
          "year": "2050-01-01"
         },
         {
          "model": "Mimi-Page-2009",
          "value": 4.199748430117024,
          "variable": "CO2_RF",
          "year": "2075-01-01"
         },
         {
          "model": "Mimi-Page-2009",
          "value": 4.9359769889085054,
          "variable": "CO2_RF",
          "year": "2100-01-01"
         },
         {
          "model": "Mimi-Page-2009",
          "value": 5.711661618880741,
          "variable": "CO2_RF",
          "year": "2150-01-01"
         },
         {
          "model": "Mimi-Page-2009",
          "value": 6.542260428079331,
          "variable": "CO2_RF",
          "year": "2200-01-01"
         },
         {
          "model": "Mimi-Page-2009",
          "value": 0.5571510833870409,
          "variable": "CH4_RF",
          "year": "2009-01-01"
         },
         {
          "model": "Mimi-Page-2009",
          "value": 0.5642285501184544,
          "variable": "CH4_RF",
          "year": "2010-01-01"
         },
         {
          "model": "Mimi-Page-2009",
          "value": 0.6277212385095137,
          "variable": "CH4_RF",
          "year": "2020-01-01"
         },
         {
          "model": "Mimi-Page-2009",
          "value": 0.6868588363759941,
          "variable": "CH4_RF",
          "year": "2030-01-01"
         },
         {
          "model": "Mimi-Page-2009",
          "value": 0.7227764604590735,
          "variable": "CH4_RF",
          "year": "2040-01-01"
         },
         {
          "model": "Mimi-Page-2009",
          "value": 0.731335504390404,
          "variable": "CH4_RF",
          "year": "2050-01-01"
         },
         {
          "model": "Mimi-Page-2009",
          "value": 0.6811124264633716,
          "variable": "CH4_RF",
          "year": "2075-01-01"
         },
         {
          "model": "Mimi-Page-2009",
          "value": 0.5821112718243948,
          "variable": "CH4_RF",
          "year": "2100-01-01"
         },
         {
          "model": "Mimi-Page-2009",
          "value": 0.5260120311380312,
          "variable": "CH4_RF",
          "year": "2150-01-01"
         },
         {
          "model": "Mimi-Page-2009",
          "value": 0.5255217147522744,
          "variable": "CH4_RF",
          "year": "2200-01-01"
         },
         {
          "model": "Mimi-Page-2009",
          "value": 0.18287358454346728,
          "variable": "N2O_RF",
          "year": "2009-01-01"
         },
         {
          "model": "Mimi-Page-2009",
          "value": 0.18572186287090042,
          "variable": "N2O_RF",
          "year": "2010-01-01"
         },
         {
          "model": "Mimi-Page-2009",
          "value": 0.2130420356597547,
          "variable": "N2O_RF",
          "year": "2020-01-01"
         },
         {
          "model": "Mimi-Page-2009",
          "value": 0.2385917055730534,
          "variable": "N2O_RF",
          "year": "2030-01-01"
         },
         {
          "model": "Mimi-Page-2009",
          "value": 0.26229324286680633,
          "variable": "N2O_RF",
          "year": "2040-01-01"
         },
         {
          "model": "Mimi-Page-2009",
          "value": 0.28397529750702516,
          "variable": "N2O_RF",
          "year": "2050-01-01"
         },
         {
          "model": "Mimi-Page-2009",
          "value": 0.3283402885598241,
          "variable": "N2O_RF",
          "year": "2075-01-01"
         },
         {
          "model": "Mimi-Page-2009",
          "value": 0.3608967005840631,
          "variable": "N2O_RF",
          "year": "2100-01-01"
         },
         {
          "model": "Mimi-Page-2009",
          "value": 0.40589501108793014,
          "variable": "N2O_RF",
          "year": "2150-01-01"
         },
         {
          "model": "Mimi-Page-2009",
          "value": 0.434423904699119,
          "variable": "N2O_RF",
          "year": "2200-01-01"
         }
        ]
       },
       "encoding": {
        "color": {
         "field": "model",
         "legend": {
          "title": "Source"
         },
         "type": "nominal"
        },
        "column": {
         "field": "variable",
         "title": "",
         "type": "nominal"
        },
        "x": {
         "field": "year",
         "timeUnit": "year",
         "title": "year",
         "type": "temporal"
        },
        "y": {
         "field": "value",
         "title": "W/m²",
         "type": "quantitative"
        }
       },
       "height": 250,
       "mark": "line",
       "resolve": {
        "scale": {
         "color": "shared",
         "x": "shared",
         "y": "independent"
        }
       },
       "width": 350
      },
      "image/png": "[encoded data removed]",
      "image/svg+xml": [
       "<?xml version=\"1.0\" encoding=\"utf-8\"?>\n",
       "<!DOCTYPE svg PUBLIC \"-//W3C//DTD SVG 1.1//EN\" \"http://www.w3.org/Graphics/SVG/1.1/DTD/svg11.dtd\">\n",
       "<svg class=\"marks\" width=\"1389\" height=\"350\" viewBox=\"0 0 1389 350\" version=\"1.1\" xmlns=\"http://www.w3.org/2000/svg\" xmlns:xlink=\"http://www.w3.org/1999/xlink\"><g transform=\"translate(55,43)\"><g class=\"mark-group role-frame root\"><g transform=\"translate(0,0)\"><path class=\"background\" d=\"M0,0h0v0h0Z\" style=\"fill: none;\"></path><g><g class=\"mark-group role-column-header column_header\"><g transform=\"translate(0,-17)\"><path class=\"background\" d=\"M0,0h350v0h-350Z\" style=\"fill: none;\"></path><g><g class=\"mark-text role-title\" style=\"pointer-events: none;\"><text text-anchor=\"middle\" transform=\"translate(175,-12)\" style=\"font: 10px sans-serif; fill: #000; opacity: 1;\">CH4_RF</text></g></g></g><g transform=\"translate(413,-17)\"><path class=\"background\" d=\"M0,0h350v0h-350Z\" style=\"fill: none;\"></path><g><g class=\"mark-text role-title\" style=\"pointer-events: none;\"><text text-anchor=\"middle\" transform=\"translate(175,-12)\" style=\"font: 10px sans-serif; fill: #000; opacity: 1;\">CO2_RF</text></g></g></g><g transform=\"translate(826,-17)\"><path class=\"background\" d=\"M0,0h350v0h-350Z\" style=\"fill: none;\"></path><g><g class=\"mark-text role-title\" style=\"pointer-events: none;\"><text text-anchor=\"middle\" transform=\"translate(175,-12)\" style=\"font: 10px sans-serif; fill: #000; opacity: 1;\">N2O_RF</text></g></g></g></g><g class=\"mark-group role-column-footer column_footer\"><g transform=\"translate(0,267)\"><path class=\"background\" d=\"M0,0h350v0h-350Z\" style=\"fill: none;\"></path><g><g class=\"mark-group role-axis\"><g transform=\"translate(0.5,0.5)\"><path class=\"background\" d=\"M0,0h0v0h0Z\" style=\"pointer-events: none; fill: none;\"></path><g><g class=\"mark-rule role-axis-tick\" style=\"pointer-events: none;\"><line transform=\"translate(0,0)\" x2=\"0\" y2=\"5\" style=\"fill: none; stroke: #888; stroke-width: 1; opacity: 1;\"></line><line transform=\"translate(35,0)\" x2=\"0\" y2=\"5\" style=\"fill: none; stroke: #888; stroke-width: 1; opacity: 1;\"></line><line transform=\"translate(70,0)\" x2=\"0\" y2=\"5\" style=\"fill: none; stroke: #888; stroke-width: 1; opacity: 1;\"></line><line transform=\"translate(106,0)\" x2=\"0\" y2=\"5\" style=\"fill: none; stroke: #888; stroke-width: 1; opacity: 1;\"></line><line transform=\"translate(141,0)\" x2=\"0\" y2=\"5\" style=\"fill: none; stroke: #888; stroke-width: 1; opacity: 1;\"></line><line transform=\"translate(176,0)\" x2=\"0\" y2=\"5\" style=\"fill: none; stroke: #888; stroke-width: 1; opacity: 1;\"></line><line transform=\"translate(211,0)\" x2=\"0\" y2=\"5\" style=\"fill: none; stroke: #888; stroke-width: 1; opacity: 1;\"></line><line transform=\"translate(246,0)\" x2=\"0\" y2=\"5\" style=\"fill: none; stroke: #888; stroke-width: 1; opacity: 1;\"></line><line transform=\"translate(281,0)\" x2=\"0\" y2=\"5\" style=\"fill: none; stroke: #888; stroke-width: 1; opacity: 1;\"></line><line transform=\"translate(317,0)\" x2=\"0\" y2=\"5\" style=\"fill: none; stroke: #888; stroke-width: 1; opacity: 1;\"></line></g><g class=\"mark-text role-axis-label\" style=\"pointer-events: none;\"><text text-anchor=\"start\" transform=\"translate(0,15)\" style=\"font: 10px sans-serif; fill: #000; opacity: 1;\">2000</text><text text-anchor=\"middle\" transform=\"translate(35.17624236420671,15)\" style=\"font: 10px sans-serif; fill: #000; opacity: 0;\">2020</text><text text-anchor=\"middle\" transform=\"translate(70.35248472841342,15)\" style=\"font: 10px sans-serif; fill: #000; opacity: 1;\">2040</text><text text-anchor=\"middle\" transform=\"translate(105.5287270926201,15)\" style=\"font: 10px sans-serif; fill: #000; opacity: 0;\">2060</text><text text-anchor=\"middle\" transform=\"translate(140.70496945682683,15)\" style=\"font: 10px sans-serif; fill: #000; opacity: 1;\">2080</text><text text-anchor=\"middle\" transform=\"translate(175.8812118210335,15)\" style=\"font: 10px sans-serif; fill: #000; opacity: 0;\">2100</text><text text-anchor=\"middle\" transform=\"translate(211.05263882009797,15)\" style=\"font: 10px sans-serif; fill: #000; opacity: 1;\">2120</text><text text-anchor=\"middle\" transform=\"translate(246.22888118430464,15)\" style=\"font: 10px sans-serif; fill: #000; opacity: 0;\">2140</text><text text-anchor=\"middle\" transform=\"translate(281.40512354851137,15)\" style=\"font: 10px sans-serif; fill: #000; opacity: 1;\">2160</text><text text-anchor=\"middle\" transform=\"translate(316.58136591271807,15)\" style=\"font: 10px sans-serif; fill: #000; opacity: 0;\">2180</text></g><g class=\"mark-rule role-axis-domain\" style=\"pointer-events: none;\"><line transform=\"translate(0,0)\" x2=\"350\" y2=\"0\" style=\"fill: none; stroke: #888; stroke-width: 1; opacity: 1;\"></line></g><g class=\"mark-text role-axis-title\" style=\"pointer-events: none;\"><text text-anchor=\"middle\" transform=\"translate(175,31)\" style=\"font: bold 11px sans-serif; fill: #000; opacity: 1;\">year</text></g></g></g></g></g></g><g transform=\"translate(413,267)\"><path class=\"background\" d=\"M0,0h350v0h-350Z\" style=\"fill: none;\"></path><g><g class=\"mark-group role-axis\"><g transform=\"translate(0.5,0.5)\"><path class=\"background\" d=\"M0,0h0v0h0Z\" style=\"pointer-events: none; fill: none;\"></path><g><g class=\"mark-rule role-axis-tick\" style=\"pointer-events: none;\"><line transform=\"translate(0,0)\" x2=\"0\" y2=\"5\" style=\"fill: none; stroke: #888; stroke-width: 1; opacity: 1;\"></line><line transform=\"translate(35,0)\" x2=\"0\" y2=\"5\" style=\"fill: none; stroke: #888; stroke-width: 1; opacity: 1;\"></line><line transform=\"translate(70,0)\" x2=\"0\" y2=\"5\" style=\"fill: none; stroke: #888; stroke-width: 1; opacity: 1;\"></line><line transform=\"translate(106,0)\" x2=\"0\" y2=\"5\" style=\"fill: none; stroke: #888; stroke-width: 1; opacity: 1;\"></line><line transform=\"translate(141,0)\" x2=\"0\" y2=\"5\" style=\"fill: none; stroke: #888; stroke-width: 1; opacity: 1;\"></line><line transform=\"translate(176,0)\" x2=\"0\" y2=\"5\" style=\"fill: none; stroke: #888; stroke-width: 1; opacity: 1;\"></line><line transform=\"translate(211,0)\" x2=\"0\" y2=\"5\" style=\"fill: none; stroke: #888; stroke-width: 1; opacity: 1;\"></line><line transform=\"translate(246,0)\" x2=\"0\" y2=\"5\" style=\"fill: none; stroke: #888; stroke-width: 1; opacity: 1;\"></line><line transform=\"translate(281,0)\" x2=\"0\" y2=\"5\" style=\"fill: none; stroke: #888; stroke-width: 1; opacity: 1;\"></line><line transform=\"translate(317,0)\" x2=\"0\" y2=\"5\" style=\"fill: none; stroke: #888; stroke-width: 1; opacity: 1;\"></line></g><g class=\"mark-text role-axis-label\" style=\"pointer-events: none;\"><text text-anchor=\"start\" transform=\"translate(0,15)\" style=\"font: 10px sans-serif; fill: #000; opacity: 1;\">2000</text><text text-anchor=\"middle\" transform=\"translate(35.17624236420671,15)\" style=\"font: 10px sans-serif; fill: #000; opacity: 0;\">2020</text><text text-anchor=\"middle\" transform=\"translate(70.35248472841342,15)\" style=\"font: 10px sans-serif; fill: #000; opacity: 1;\">2040</text><text text-anchor=\"middle\" transform=\"translate(105.5287270926201,15)\" style=\"font: 10px sans-serif; fill: #000; opacity: 0;\">2060</text><text text-anchor=\"middle\" transform=\"translate(140.70496945682683,15)\" style=\"font: 10px sans-serif; fill: #000; opacity: 1;\">2080</text><text text-anchor=\"middle\" transform=\"translate(175.8812118210335,15)\" style=\"font: 10px sans-serif; fill: #000; opacity: 0;\">2100</text><text text-anchor=\"middle\" transform=\"translate(211.05263882009797,15)\" style=\"font: 10px sans-serif; fill: #000; opacity: 1;\">2120</text><text text-anchor=\"middle\" transform=\"translate(246.22888118430464,15)\" style=\"font: 10px sans-serif; fill: #000; opacity: 0;\">2140</text><text text-anchor=\"middle\" transform=\"translate(281.40512354851137,15)\" style=\"font: 10px sans-serif; fill: #000; opacity: 1;\">2160</text><text text-anchor=\"middle\" transform=\"translate(316.58136591271807,15)\" style=\"font: 10px sans-serif; fill: #000; opacity: 0;\">2180</text></g><g class=\"mark-rule role-axis-domain\" style=\"pointer-events: none;\"><line transform=\"translate(0,0)\" x2=\"350\" y2=\"0\" style=\"fill: none; stroke: #888; stroke-width: 1; opacity: 1;\"></line></g><g class=\"mark-text role-axis-title\" style=\"pointer-events: none;\"><text text-anchor=\"middle\" transform=\"translate(175,31)\" style=\"font: bold 11px sans-serif; fill: #000; opacity: 1;\">year</text></g></g></g></g></g></g><g transform=\"translate(826,267)\"><path class=\"background\" d=\"M0,0h350v0h-350Z\" style=\"fill: none;\"></path><g><g class=\"mark-group role-axis\"><g transform=\"translate(0.5,0.5)\"><path class=\"background\" d=\"M0,0h0v0h0Z\" style=\"pointer-events: none; fill: none;\"></path><g><g class=\"mark-rule role-axis-tick\" style=\"pointer-events: none;\"><line transform=\"translate(0,0)\" x2=\"0\" y2=\"5\" style=\"fill: none; stroke: #888; stroke-width: 1; opacity: 1;\"></line><line transform=\"translate(35,0)\" x2=\"0\" y2=\"5\" style=\"fill: none; stroke: #888; stroke-width: 1; opacity: 1;\"></line><line transform=\"translate(70,0)\" x2=\"0\" y2=\"5\" style=\"fill: none; stroke: #888; stroke-width: 1; opacity: 1;\"></line><line transform=\"translate(106,0)\" x2=\"0\" y2=\"5\" style=\"fill: none; stroke: #888; stroke-width: 1; opacity: 1;\"></line><line transform=\"translate(141,0)\" x2=\"0\" y2=\"5\" style=\"fill: none; stroke: #888; stroke-width: 1; opacity: 1;\"></line><line transform=\"translate(176,0)\" x2=\"0\" y2=\"5\" style=\"fill: none; stroke: #888; stroke-width: 1; opacity: 1;\"></line><line transform=\"translate(211,0)\" x2=\"0\" y2=\"5\" style=\"fill: none; stroke: #888; stroke-width: 1; opacity: 1;\"></line><line transform=\"translate(246,0)\" x2=\"0\" y2=\"5\" style=\"fill: none; stroke: #888; stroke-width: 1; opacity: 1;\"></line><line transform=\"translate(281,0)\" x2=\"0\" y2=\"5\" style=\"fill: none; stroke: #888; stroke-width: 1; opacity: 1;\"></line><line transform=\"translate(317,0)\" x2=\"0\" y2=\"5\" style=\"fill: none; stroke: #888; stroke-width: 1; opacity: 1;\"></line></g><g class=\"mark-text role-axis-label\" style=\"pointer-events: none;\"><text text-anchor=\"start\" transform=\"translate(0,15)\" style=\"font: 10px sans-serif; fill: #000; opacity: 1;\">2000</text><text text-anchor=\"middle\" transform=\"translate(35.17624236420671,15)\" style=\"font: 10px sans-serif; fill: #000; opacity: 0;\">2020</text><text text-anchor=\"middle\" transform=\"translate(70.35248472841342,15)\" style=\"font: 10px sans-serif; fill: #000; opacity: 1;\">2040</text><text text-anchor=\"middle\" transform=\"translate(105.5287270926201,15)\" style=\"font: 10px sans-serif; fill: #000; opacity: 0;\">2060</text><text text-anchor=\"middle\" transform=\"translate(140.70496945682683,15)\" style=\"font: 10px sans-serif; fill: #000; opacity: 1;\">2080</text><text text-anchor=\"middle\" transform=\"translate(175.8812118210335,15)\" style=\"font: 10px sans-serif; fill: #000; opacity: 0;\">2100</text><text text-anchor=\"middle\" transform=\"translate(211.05263882009797,15)\" style=\"font: 10px sans-serif; fill: #000; opacity: 1;\">2120</text><text text-anchor=\"middle\" transform=\"translate(246.22888118430464,15)\" style=\"font: 10px sans-serif; fill: #000; opacity: 0;\">2140</text><text text-anchor=\"middle\" transform=\"translate(281.40512354851137,15)\" style=\"font: 10px sans-serif; fill: #000; opacity: 1;\">2160</text><text text-anchor=\"middle\" transform=\"translate(316.58136591271807,15)\" style=\"font: 10px sans-serif; fill: #000; opacity: 0;\">2180</text></g><g class=\"mark-rule role-axis-domain\" style=\"pointer-events: none;\"><line transform=\"translate(0,0)\" x2=\"350\" y2=\"0\" style=\"fill: none; stroke: #888; stroke-width: 1; opacity: 1;\"></line></g><g class=\"mark-text role-axis-title\" style=\"pointer-events: none;\"><text text-anchor=\"middle\" transform=\"translate(175,31)\" style=\"font: bold 11px sans-serif; fill: #000; opacity: 1;\">year</text></g></g></g></g></g></g></g><g class=\"mark-group role-scope cell\"><g transform=\"translate(0,0)\"><path class=\"background\" d=\"M0.5,0.5h350v250h-350Z\" style=\"fill: none; stroke: #ddd;\"></path><g><g class=\"mark-group role-axis\"><g transform=\"translate(0.5,250.5)\"><path class=\"background\" d=\"M0,0h0v0h0Z\" style=\"pointer-events: none; fill: none;\"></path><g><g class=\"mark-rule role-axis-grid\" style=\"pointer-events: none;\"><line transform=\"translate(0,-250)\" x2=\"0\" y2=\"250\" style=\"fill: none; stroke: #ddd; stroke-width: 1; opacity: 1;\"></line><line transform=\"translate(35,-250)\" x2=\"0\" y2=\"250\" style=\"fill: none; stroke: #ddd; stroke-width: 1; opacity: 1;\"></line><line transform=\"translate(70,-250)\" x2=\"0\" y2=\"250\" style=\"fill: none; stroke: #ddd; stroke-width: 1; opacity: 1;\"></line><line transform=\"translate(106,-250)\" x2=\"0\" y2=\"250\" style=\"fill: none; stroke: #ddd; stroke-width: 1; opacity: 1;\"></line><line transform=\"translate(141,-250)\" x2=\"0\" y2=\"250\" style=\"fill: none; stroke: #ddd; stroke-width: 1; opacity: 1;\"></line><line transform=\"translate(176,-250)\" x2=\"0\" y2=\"250\" style=\"fill: none; stroke: #ddd; stroke-width: 1; opacity: 1;\"></line><line transform=\"translate(211,-250)\" x2=\"0\" y2=\"250\" style=\"fill: none; stroke: #ddd; stroke-width: 1; opacity: 1;\"></line><line transform=\"translate(246,-250)\" x2=\"0\" y2=\"250\" style=\"fill: none; stroke: #ddd; stroke-width: 1; opacity: 1;\"></line><line transform=\"translate(281,-250)\" x2=\"0\" y2=\"250\" style=\"fill: none; stroke: #ddd; stroke-width: 1; opacity: 1;\"></line><line transform=\"translate(317,-250)\" x2=\"0\" y2=\"250\" style=\"fill: none; stroke: #ddd; stroke-width: 1; opacity: 1;\"></line></g></g></g></g><g class=\"mark-group role-axis\"><g transform=\"translate(0.5,0.5)\"><path class=\"background\" d=\"M0,0h0v0h0Z\" style=\"pointer-events: none; fill: none;\"></path><g><g class=\"mark-rule role-axis-grid\" style=\"pointer-events: none;\"><line transform=\"translate(0,250)\" x2=\"350\" y2=\"0\" style=\"fill: none; stroke: #ddd; stroke-width: 1; opacity: 1;\"></line><line transform=\"translate(0,205)\" x2=\"350\" y2=\"0\" style=\"fill: none; stroke: #ddd; stroke-width: 1; opacity: 1;\"></line><line transform=\"translate(0,159)\" x2=\"350\" y2=\"0\" style=\"fill: none; stroke: #ddd; stroke-width: 1; opacity: 1;\"></line><line transform=\"translate(0,114)\" x2=\"350\" y2=\"0\" style=\"fill: none; stroke: #ddd; stroke-width: 1; opacity: 1;\"></line><line transform=\"translate(0,68)\" x2=\"350\" y2=\"0\" style=\"fill: none; stroke: #ddd; stroke-width: 1; opacity: 1;\"></line><line transform=\"translate(0,23)\" x2=\"350\" y2=\"0\" style=\"fill: none; stroke: #ddd; stroke-width: 1; opacity: 1;\"></line></g></g></g></g><g class=\"mark-group role-scope child_pathgroup\"><g transform=\"translate(0,0)\"><path class=\"background\" d=\"M0,0h350v250h-350Z\" style=\"fill: none;\"></path><g><g class=\"mark-line role-mark child_marks\"><path d=\"M350,17.577522727272765L348.24239172307523,17.469568181818204L346.48478344615046,17.361681818181836L344.7223598040834,17.26129545454546L342.9647515271586,17.175227272727284L341.2071432502339,17.096181818181833L339.44953497330914,17.01402272727273L337.6871113312421,16.92752272727273L335.9295030543173,16.834931818181815L334.17189477739254,16.732840909090925L332.41428650046777,16.617272727272763L330.65186285840076,16.489090909090947L328.894254581476,16.354431818181865L327.1366463045512,16.219545454545454L325.3790380276264,16.091818181818212L323.6166143855594,15.978045454545452L321.8590061086346,15.870909090909095L320.1013978317099,15.760227272727263L318.34378955478513,15.64481818181821L316.58136591271807,15.522931818181831L314.8237576357933,15.39120454545457L313.06614935886853,15.245704545454544L311.30854108194376,15.087272727272733L309.54611743987675,14.922068181818219L307.7885091629519,14.756249999999994L306.03090088602715,14.597136363636395L304.2732926091024,14.45152272727276L302.5108689670354,14.312068181818177L300.7532606901106,14.168568181818216L298.99565241318584,14.019886363636374L297.23804413626107,13.86427272727272L295.47562049419406,13.698454545454581L293.7180122172693,13.518522727272767L291.9604039403445,13.325295454545483L290.20279566341975,13.124886363636392L288.4403720213527,12.923340909090939L286.6827637444279,12.727909090909122L284.92515546750315,12.545318181818175L283.16754719057843,12.36829545454546L281.40512354851137,12.186636363636381L279.6475152715866,11.999181818181825L277.8899069946618,11.804318181818246L276.13229871773706,11.598750000000024L274.36987507567005,11.378613636363667L272.6122667987453,11.144704545454545L270.85465852182045,10.902977272727298L269.0970502448957,10.659340909090929L267.3346266028287,10.420886363636384L265.5770183259039,10.194318181818204L263.81941004897914,9.972386363636389L262.06180177205437,9.746636363636412L260.2993781299873,9.51779545454545L258.5417698530626,9.284431818181844L256.7841615761378,9.043477272727273L255.02655329921302,8.791318181818184L253.26412965714601,8.528750000000002L251.50652138022124,8.261909090909114L249.74891310329645,7.996727272727298L247.99130482637167,7.740363636363668L246.22888118430464,7.499840909090949L244.47127290737987,7.268295454545495L242.71366463045513,7.03579545454545L240.95605635353036,6.801522727272754L239.19363271146335,6.5642727272727655L237.43602443453855,6.321318181818214L235.67841615761378,6.069136363636403L233.920807880689,5.808772727272753L232.15838423862198,5.546386363636373L230.4007759616972,5.288045454545511L228.64316768477244,5.040954545454582L226.88555940784767,4.812431818181807L225.12313576578063,4.596022727272754L223.36552748885586,4.382159090909141L221.60791921193112,4.170386363636396L219.85031093500635,3.9599318181818433L218.0878872929393,3.7485681818182L216.33027901601454,3.533318181818231L214.57267073908977,3.3155681818182074L212.81506246216497,3.1019318181818676L211.05263882009797,2.8988636363636715L209.29503054317317,2.7140454545454418L207.5374222662484,2.555454545454552L205.77981398932363,2.417477272727325L204.0173903472566,2.291318181818184L202.25978207033182,2.1774545454545944L200.50217379340708,2.076090909090908L198.7445655164823,1.9861136363636263L196.98214187441528,1.9056590909090971L195.2245335974905,1.83725000000004L193.46692532056574,1.7886818181818285L191.70931704364097,1.7676363636363988L189.94689340157393,1.783068181818237L188.18928512464916,1.8445681818182038L186.4316768477244,1.9484545454545525L184.67406857079965,2.0880000000000223L182.91164492873258,2.2657272727272755L181.15403665180784,2.484227272727253L179.39642837488307,2.7450227272727545L177.6388200979583,3.049000000000035L175.8812118210335,3.401613636363635L174.12360354410876,3.7962727272727363L172.365995267184,4.225295454545488L170.6083869902592,4.6980000000000075L168.84596334819219,5.224454545454535L167.0883550712674,5.801727272727305L165.33074679434264,6.423818181818206L163.57313851741787,7.0940000000000225L161.81071487535084,7.815704545454537L160.05310659842607,8.591318181818195L158.2954983215013,9.422727272727286L156.53789004457653,10.279931818181808L154.7754664025095,11.135159090909127L153.01785812558472,11.993409090909125L151.26024984865995,12.860227272727286L149.50264157173518,13.742068181818183L147.74021792966815,14.632590909090936L145.98260965274338,15.522000000000048L144.2250013758186,16.409136363636378L142.46739309889384,17.292636363636404L140.70496945682683,18.16986363636363L138.94736117990203,19.047022727272775L137.18975290297726,19.934659090909093L135.43214462605252,20.838909090909112L133.66972098398546,21.765931818181883L131.91211270706071,22.722840909090905L130.15450443013592,23.71780000000001L128.39689615321115,24.74695454545457L126.63447251114412,25.803177272727254L124.87686423421937,26.887904545454575L123.1192559572946,28.00260000000003L121.36164768036981,29.15548181818184L119.5992240383028,30.354779545454562L117.84161576137802,31.60542954545457L116.08400748445325,32.91718181818183L114.32639920752848,34.29980454545455L112.56397556546146,35.764327272727286L110.80636728853668,37.32341136363638L109.0487590116119,38.97871818181818L107.29115073468715,40.729202272727264L105.5287270926201,42.582602272727286L103.77111881569535,44.50823636363637L102.01351053877057,46.471354545454574L100.25590226184579,48.47204318181818L98.49347861977877,50.51380909090912L96.73587034285399,52.60466136363641L94.97826206592923,54.75248863636364L93.22065378900446,56.96621363636365L91.45823014693744,59.25633181818182L89.70062187001265,61.622993181818174L87.94301359308788,64.06352954545454L86.18540531616313,66.53832727272729L84.42298167409609,69.00393409090913L82.66537339717132,71.45648409090913L80.90776512024654,73.89072727272728L79.15015684332178,76.30407954545456L77.38773320125475,78.69753409090913L75.63012492432998,81.07133181818182L73.8725166474052,83.42592727272731L72.11490837048044,85.76258409090909L70.35248472841342,88.07219772727274L68.59487645148863,90.34761363636366L66.83726817456386,92.58886590909094L65.0796598976391,94.79054545454545L63.31723625557206,96.94577045454545L61.5596279786473,99.0462590909091L59.80201970172253,101.08579318181822L58.04441142479775,103.06110454545455L56.28198778273073,104.96780000000001L54.52437950580595,106.8012590909091L52.76677122888118,108.55740454545457L51.00916295195642,110.27183181818182L49.246739309889385,111.98090227272729L47.489131032964615,113.68222272727272L45.73152275603984,115.37345000000002L43.973914479115074,117.0512159090909L42.211490837048046,118.71112727272728L40.45388256012327,120.35101590909093L38.696274283198505,121.97183409090908L36.938666006273735,123.57389999999998L35.17624236420671,125.15783409090909L33.41863408728193,126.71847272727273L31.66102581035716,128.24078863636365L29.903417533432393,129.71231590909093L28.140993891365365,131.12617272727275L26.38338561444059,132.47490000000002L24.62577733751582,133.74961136363638L22.868169060591054,134.93992954545456L21.105745418524023,136.03703181818184L19.348137141599253,137.03448863636362L17.59052886467448,137.9244681818182L15.83292058774971,138.71300454545454L14.070496945682683,139.40886590909093L12.31288866875791,140.00382045454546L10.55528039183314,140.45982954545457L8.797672114908371,140.7601340909091L7.035248472841341,140.82619545454546L5.27764019591657,140.71310454545454L3.5200319189918,140.7390431818182L1.76242364206703,140.9578659090909L0,141.08379545454545\" style=\"fill: none; stroke: #f58518; stroke-width: 2;\"></path></g></g></g><g transform=\"translate(0,0)\"><path class=\"background\" d=\"M0,0h350v250h-350Z\" style=\"fill: none;\"></path><g><g class=\"mark-line role-mark child_marks\"><path d=\"M350,130.56324664721038L262.06180177205437,130.4518111049929L174.12360354410876,117.7019836762739L130.15450443013592,95.20172125832465L86.18540531616313,83.78738536581727L68.59487645148863,85.73262262293784L51.00916295195642,93.8957190054559L33.41863408728193,107.33608215692871L15.83292058774971,121.76623860944218L14.070496945682683,123.37475377567253\" style=\"fill: none; stroke: #4c78a8; stroke-width: 2;\"></path></g></g></g></g><g class=\"mark-group role-axis\"><g transform=\"translate(0.5,0.5)\"><path class=\"background\" d=\"M0,0h0v0h0Z\" style=\"pointer-events: none; fill: none;\"></path><g><g class=\"mark-rule role-axis-tick\" style=\"pointer-events: none;\"><line transform=\"translate(0,250)\" x2=\"-5\" y2=\"0\" style=\"fill: none; stroke: #888; stroke-width: 1; opacity: 1;\"></line><line transform=\"translate(0,205)\" x2=\"-5\" y2=\"0\" style=\"fill: none; stroke: #888; stroke-width: 1; opacity: 1;\"></line><line transform=\"translate(0,159)\" x2=\"-5\" y2=\"0\" style=\"fill: none; stroke: #888; stroke-width: 1; opacity: 1;\"></line><line transform=\"translate(0,114)\" x2=\"-5\" y2=\"0\" style=\"fill: none; stroke: #888; stroke-width: 1; opacity: 1;\"></line><line transform=\"translate(0,68)\" x2=\"-5\" y2=\"0\" style=\"fill: none; stroke: #888; stroke-width: 1; opacity: 1;\"></line><line transform=\"translate(0,23)\" x2=\"-5\" y2=\"0\" style=\"fill: none; stroke: #888; stroke-width: 1; opacity: 1;\"></line></g><g class=\"mark-text role-axis-label\" style=\"pointer-events: none;\"><text text-anchor=\"end\" transform=\"translate(-7,253)\" style=\"font: 10px sans-serif; fill: #000; opacity: 1;\">0.0</text><text text-anchor=\"end\" transform=\"translate(-7,207.54545454545456)\" style=\"font: 10px sans-serif; fill: #000; opacity: 1;\">0.2</text><text text-anchor=\"end\" transform=\"translate(-7,162.0909090909091)\" style=\"font: 10px sans-serif; fill: #000; opacity: 1;\">0.4</text><text text-anchor=\"end\" transform=\"translate(-7,116.63636363636365)\" style=\"font: 10px sans-serif; fill: #000; opacity: 1;\">0.6</text><text text-anchor=\"end\" transform=\"translate(-7,71.18181818181819)\" style=\"font: 10px sans-serif; fill: #000; opacity: 1;\">0.8</text><text text-anchor=\"end\" transform=\"translate(-7,25.727272727272748)\" style=\"font: 10px sans-serif; fill: #000; opacity: 1;\">1.0</text></g><g class=\"mark-rule role-axis-domain\" style=\"pointer-events: none;\"><line transform=\"translate(0,250)\" x2=\"0\" y2=\"-250\" style=\"fill: none; stroke: #888; stroke-width: 1; opacity: 1;\"></line></g><g class=\"mark-text role-axis-title\" style=\"pointer-events: none;\"><text text-anchor=\"middle\" transform=\"translate(-36,125) rotate(-90) translate(0,-2)\" style=\"font: bold 11px sans-serif; fill: #000; opacity: 1;\">W/m²</text></g></g></g></g></g></g><g transform=\"translate(413,0)\"><path class=\"background\" d=\"M0.5,0.5h350v250h-350Z\" style=\"fill: none; stroke: #ddd;\"></path><g><g class=\"mark-group role-axis\"><g transform=\"translate(0.5,250.5)\"><path class=\"background\" d=\"M0,0h0v0h0Z\" style=\"pointer-events: none; fill: none;\"></path><g><g class=\"mark-rule role-axis-grid\" style=\"pointer-events: none;\"><line transform=\"translate(0,-250)\" x2=\"0\" y2=\"250\" style=\"fill: none; stroke: #ddd; stroke-width: 1; opacity: 1;\"></line><line transform=\"translate(35,-250)\" x2=\"0\" y2=\"250\" style=\"fill: none; stroke: #ddd; stroke-width: 1; opacity: 1;\"></line><line transform=\"translate(70,-250)\" x2=\"0\" y2=\"250\" style=\"fill: none; stroke: #ddd; stroke-width: 1; opacity: 1;\"></line><line transform=\"translate(106,-250)\" x2=\"0\" y2=\"250\" style=\"fill: none; stroke: #ddd; stroke-width: 1; opacity: 1;\"></line><line transform=\"translate(141,-250)\" x2=\"0\" y2=\"250\" style=\"fill: none; stroke: #ddd; stroke-width: 1; opacity: 1;\"></line><line transform=\"translate(176,-250)\" x2=\"0\" y2=\"250\" style=\"fill: none; stroke: #ddd; stroke-width: 1; opacity: 1;\"></line><line transform=\"translate(211,-250)\" x2=\"0\" y2=\"250\" style=\"fill: none; stroke: #ddd; stroke-width: 1; opacity: 1;\"></line><line transform=\"translate(246,-250)\" x2=\"0\" y2=\"250\" style=\"fill: none; stroke: #ddd; stroke-width: 1; opacity: 1;\"></line><line transform=\"translate(281,-250)\" x2=\"0\" y2=\"250\" style=\"fill: none; stroke: #ddd; stroke-width: 1; opacity: 1;\"></line><line transform=\"translate(317,-250)\" x2=\"0\" y2=\"250\" style=\"fill: none; stroke: #ddd; stroke-width: 1; opacity: 1;\"></line></g></g></g></g><g class=\"mark-group role-axis\"><g transform=\"translate(0.5,0.5)\"><path class=\"background\" d=\"M0,0h0v0h0Z\" style=\"pointer-events: none; fill: none;\"></path><g><g class=\"mark-rule role-axis-grid\" style=\"pointer-events: none;\"><line transform=\"translate(0,250)\" x2=\"350\" y2=\"0\" style=\"fill: none; stroke: #ddd; stroke-width: 1; opacity: 1;\"></line><line transform=\"translate(0,205)\" x2=\"350\" y2=\"0\" style=\"fill: none; stroke: #ddd; stroke-width: 1; opacity: 1;\"></line><line transform=\"translate(0,159)\" x2=\"350\" y2=\"0\" style=\"fill: none; stroke: #ddd; stroke-width: 1; opacity: 1;\"></line><line transform=\"translate(0,114)\" x2=\"350\" y2=\"0\" style=\"fill: none; stroke: #ddd; stroke-width: 1; opacity: 1;\"></line><line transform=\"translate(0,68)\" x2=\"350\" y2=\"0\" style=\"fill: none; stroke: #ddd; stroke-width: 1; opacity: 1;\"></line><line transform=\"translate(0,23)\" x2=\"350\" y2=\"0\" style=\"fill: none; stroke: #ddd; stroke-width: 1; opacity: 1;\"></line></g></g></g></g><g class=\"mark-group role-scope child_pathgroup\"><g transform=\"translate(0,0)\"><path class=\"background\" d=\"M0,0h350v250h-350Z\" style=\"fill: none;\"></path><g><g class=\"mark-line role-mark child_marks\"><path d=\"M350,20.39627272727273L348.24239172307523,20.75634090909091L346.48478344615046,21.12427272727271L344.7223598040834,21.501022727272726L342.9647515271586,21.890022727272736L341.2071432502339,22.290181818181793L339.44953497330914,22.698840909090904L337.6871113312421,23.117215909090902L335.9295030543173,23.544431818181806L334.17189477739254,23.97902727272728L332.41428650046777,24.420252272727254L330.65186285840076,24.867579545454532L328.894254581476,25.32121590909088L327.1366463045512,25.783156818181823L325.3790380276264,26.257288636363654L323.6166143855594,26.743124999999992L321.8590061086346,27.239852272727262L320.1013978317099,27.74839545454543L318.34378955478513,28.266572727272745L316.58136591271807,28.793679545454523L314.8237576357933,29.329313636363622L313.06614935886853,29.872268181818185L311.30854108194376,30.42262272727271L309.54611743987675,30.97992499999998L307.7885091629519,31.545543181818147L306.03090088602715,32.124534090909066L304.2732926091024,32.718143181818164L302.5108689670354,33.32372045454545L300.7532606901106,33.94008636363637L298.99565241318584,34.567211363636346L297.23804413626107,35.20475227272726L295.47562049419406,35.852161363636355L293.7180122172693,36.50935000000001L291.9604039403445,37.17595227272727L290.20279566341975,37.85040454545455L288.4403720213527,38.53325909090907L286.6827637444279,39.23206136363635L284.92515546750315,39.94706363636362L283.16754719057843,40.67412954545455L281.40512354851137,41.41449318181819L279.6475152715866,42.167804545454516L277.8899069946618,42.93338409090907L276.13229871773706,43.71037954545454L274.36987507567005,44.49901363636363L272.6122667987453,45.29983636363636L270.85465852182045,46.110447727272714L269.0970502448957,46.93197272727275L267.3346266028287,47.77137499999998L265.5770183259039,48.62967500000002L263.81941004897914,49.50315454545455L262.06180177205437,50.38828409090908L260.2993781299873,51.28090454545455L258.5417698530626,52.17785454545458L256.7841615761378,53.07807272727271L255.02655329921302,53.98146363636363L253.26412965714601,54.886193181818186L251.50652138022124,55.79296136363638L249.74891310329645,56.70448636363636L247.99130482637167,57.62346818181817L246.22888118430464,58.55106363636364L244.47127290737987,59.486104545454566L242.71366463045513,60.42729772727273L240.95605635353036,61.37447272727272L239.19363271146335,62.32824772727275L237.43602443453855,63.28666363636364L235.67841615761378,64.24707954545454L233.920807880689,65.21063863636363L232.15838423862198,66.17810681818182L230.4007759616972,67.14882272727272L228.64316768477244,68.12654318181819L226.88555940784767,69.11483181818181L225.12313576578063,70.11025454545455L223.36552748885586,71.11412045454546L221.60791921193112,72.12681818181818L219.85031093500635,73.14390681818182L218.0878872929393,74.1652409090909L216.33027901601454,75.19162954545456L214.57267073908977,76.22214318181815L212.81506246216497,77.25489999999999L211.05263882009797,78.29232727272728L209.29503054317317,79.33971590909093L207.5374222662484,80.39668863636365L205.77981398932363,81.46169772727274L204.0173903472566,82.53727954545454L202.25978207033182,83.62066818181819L200.50217379340708,84.71042045454544L198.7445655164823,85.80746136363638L196.98214187441528,86.90796818181818L195.2245335974905,88.01339318181817L193.46692532056574,89.12392272727274L191.70931704364097,90.23935227272727L189.94689340157393,91.36548181818182L188.18928512464916,92.50182727272727L186.4316768477244,93.64872727272729L184.67406857079965,94.80656136363638L182.91164492873258,95.97233409090907L181.15403665180784,97.14652272727272L179.39642837488307,98.32737045454544L177.6388200979583,99.51613181818183L175.8812118210335,100.71160454545455L174.12360354410876,101.90902499999999L172.365995267184,103.11197954545455L170.6083869902592,104.32493636363637L168.84596334819219,105.54860454545454L167.0883550712674,106.78226818181818L165.33074679434264,108.0255340909091L163.57313851741787,109.27816136363634L161.81071487535084,110.53967272727272L160.05310659842607,111.80922272727273L158.2954983215013,113.08499999999998L156.53789004457653,114.36276818181821L154.7754664025095,115.64366136363634L153.01785812558472,116.93082500000003L151.26024984865995,118.22227954545457L149.50264157173518,119.52348863636365L147.74021792966815,120.836975L145.98260965274338,122.15822045454547L144.2250013758186,123.4879818181818L142.46739309889384,124.82656363636366L140.70496945682683,126.17257727272727L138.94736117990203,127.52276590909091L137.18975290297726,128.8743909090909L135.43214462605252,130.22532954545454L133.66972098398546,131.58087272727272L131.91211270706071,132.94389318181817L130.15450443013592,134.3138659090909L128.39689615321115,135.69315L126.63447251114412,137.0801909090909L124.87686423421937,138.47529090909092L123.1192559572946,139.8786659090909L121.36164768036981,141.28563636363634L119.5992240383028,142.69019772727273L117.84161576137802,144.09037727272727L116.08400748445325,145.4857818181818L114.32639920752848,146.878425L112.56397556546146,148.27132045454545L110.80636728853668,149.66757954545454L109.0487590116119,151.06742954545456L107.29115073468715,152.46926818181817L105.5287270926201,153.87357500000002L103.77111881569535,155.27556590909091L102.01351053877057,156.66898863636362L100.25590226184579,158.05117727272727L98.49347861977877,159.41994772727273L96.73587034285399,160.77489772727273L94.97826206592923,162.11642272727272L93.22065378900446,163.44636363636363L91.45823014693744,164.76864772727274L89.70062187001265,166.08328181818183L87.94301359308788,167.38769318181818L86.18540531616313,168.68133181818183L84.42298167409609,169.96348636363635L82.66537339717132,171.23250227272726L80.90776512024654,172.4854181818182L79.15015684332178,173.71977727272724L77.38773320125475,174.93481136363636L75.63012492432998,176.13076363636364L73.8725166474052,177.30950681818183L72.11490837048044,178.474625L70.35248472841342,179.6257477272727L68.59487645148863,180.7629159090909L66.83726817456386,181.88856136363637L65.0796598976391,183.00219545454544L63.31723625557206,184.10219545454544L61.5596279786473,185.18548863636363L59.80201970172253,186.24953181818182L58.04441142479775,187.2935318181818L56.28198778273073,188.31737045454545L54.52437950580595,189.3230159090909L52.76677122888118,190.31458409090908L51.00916295195642,191.29678409090909L49.246739309889385,192.27202045454544L47.489131032964615,193.2402818181818L45.73152275603984,194.201375L43.973914479115074,195.15392954545456L42.211490837048046,196.09512727272727L40.45388256012327,197.02262045454546L38.696274283198505,197.93584545454547L36.938666006273735,198.8351181818182L35.17624236420671,199.723025L33.41863408728193,200.6022409090909L31.66102581035716,201.47094545454547L29.903417533432393,202.32684772727274L28.140993891365365,203.16987272727272L26.38338561444059,203.99969318181817L24.62577733751582,204.81478863636363L22.868169060591054,205.61209545454545L21.105745418524023,206.38897045454547L19.348137141599253,207.1445909090909L17.59052886467448,207.87867727272726L15.83292058774971,208.5995L14.070496945682683,209.32403181818182L12.31288866875791,210.02128636363636L10.55528039183314,210.66227954545457L8.797672114908371,211.28357499999998L7.035248472841341,211.92897727272728L5.27764019591657,212.57286590909092L3.5200319189918,213.23739772727274L1.76242364206703,213.96592045454545L0,214.6386159090909\" style=\"fill: none; stroke: #f58518; stroke-width: 2;\"></path></g></g></g><g transform=\"translate(0,0)\"><path class=\"background\" d=\"M0,0h350v250h-350Z\" style=\"fill: none;\"></path><g><g class=\"mark-line role-mark child_marks\"><path d=\"M350,101.31226299819704L262.06180177205437,120.18950866180134L174.12360354410876,137.81870479753397L130.15450443013592,154.55117204279492L86.18540531616313,172.37016491629544L68.59487645148863,182.22111585527375L51.00916295195642,191.89535806586377L33.41863408728193,201.14624502819396L15.83292058774971,209.000019502284L14.070496945682683,209.81718440454122\" style=\"fill: none; stroke: #4c78a8; stroke-width: 2;\"></path></g></g></g></g><g class=\"mark-group role-axis\"><g transform=\"translate(0.5,0.5)\"><path class=\"background\" d=\"M0,0h0v0h0Z\" style=\"pointer-events: none; fill: none;\"></path><g><g class=\"mark-rule role-axis-tick\" style=\"pointer-events: none;\"><line transform=\"translate(0,250)\" x2=\"-5\" y2=\"0\" style=\"fill: none; stroke: #888; stroke-width: 1; opacity: 1;\"></line><line transform=\"translate(0,205)\" x2=\"-5\" y2=\"0\" style=\"fill: none; stroke: #888; stroke-width: 1; opacity: 1;\"></line><line transform=\"translate(0,159)\" x2=\"-5\" y2=\"0\" style=\"fill: none; stroke: #888; stroke-width: 1; opacity: 1;\"></line><line transform=\"translate(0,114)\" x2=\"-5\" y2=\"0\" style=\"fill: none; stroke: #888; stroke-width: 1; opacity: 1;\"></line><line transform=\"translate(0,68)\" x2=\"-5\" y2=\"0\" style=\"fill: none; stroke: #888; stroke-width: 1; opacity: 1;\"></line><line transform=\"translate(0,23)\" x2=\"-5\" y2=\"0\" style=\"fill: none; stroke: #888; stroke-width: 1; opacity: 1;\"></line></g><g class=\"mark-text role-axis-label\" style=\"pointer-events: none;\"><text text-anchor=\"end\" transform=\"translate(-7,253)\" style=\"font: 10px sans-serif; fill: #000; opacity: 1;\">0</text><text text-anchor=\"end\" transform=\"translate(-7,207.54545454545456)\" style=\"font: 10px sans-serif; fill: #000; opacity: 1;\">2</text><text text-anchor=\"end\" transform=\"translate(-7,162.0909090909091)\" style=\"font: 10px sans-serif; fill: #000; opacity: 1;\">4</text><text text-anchor=\"end\" transform=\"translate(-7,116.63636363636365)\" style=\"font: 10px sans-serif; fill: #000; opacity: 1;\">6</text><text text-anchor=\"end\" transform=\"translate(-7,71.18181818181819)\" style=\"font: 10px sans-serif; fill: #000; opacity: 1;\">8</text><text text-anchor=\"end\" transform=\"translate(-7,25.727272727272748)\" style=\"font: 10px sans-serif; fill: #000; opacity: 1;\">10</text></g><g class=\"mark-rule role-axis-domain\" style=\"pointer-events: none;\"><line transform=\"translate(0,250)\" x2=\"0\" y2=\"-250\" style=\"fill: none; stroke: #888; stroke-width: 1; opacity: 1;\"></line></g><g class=\"mark-text role-axis-title\" style=\"pointer-events: none;\"><text text-anchor=\"middle\" transform=\"translate(-34,125) rotate(-90) translate(0,-2)\" style=\"font: bold 11px sans-serif; fill: #000; opacity: 1;\">W/m²</text></g></g></g></g></g></g><g transform=\"translate(826,0)\"><path class=\"background\" d=\"M0.5,0.5h350v250h-350Z\" style=\"fill: none; stroke: #ddd;\"></path><g><g class=\"mark-group role-axis\"><g transform=\"translate(0.5,250.5)\"><path class=\"background\" d=\"M0,0h0v0h0Z\" style=\"pointer-events: none; fill: none;\"></path><g><g class=\"mark-rule role-axis-grid\" style=\"pointer-events: none;\"><line transform=\"translate(0,-250)\" x2=\"0\" y2=\"250\" style=\"fill: none; stroke: #ddd; stroke-width: 1; opacity: 1;\"></line><line transform=\"translate(35,-250)\" x2=\"0\" y2=\"250\" style=\"fill: none; stroke: #ddd; stroke-width: 1; opacity: 1;\"></line><line transform=\"translate(70,-250)\" x2=\"0\" y2=\"250\" style=\"fill: none; stroke: #ddd; stroke-width: 1; opacity: 1;\"></line><line transform=\"translate(106,-250)\" x2=\"0\" y2=\"250\" style=\"fill: none; stroke: #ddd; stroke-width: 1; opacity: 1;\"></line><line transform=\"translate(141,-250)\" x2=\"0\" y2=\"250\" style=\"fill: none; stroke: #ddd; stroke-width: 1; opacity: 1;\"></line><line transform=\"translate(176,-250)\" x2=\"0\" y2=\"250\" style=\"fill: none; stroke: #ddd; stroke-width: 1; opacity: 1;\"></line><line transform=\"translate(211,-250)\" x2=\"0\" y2=\"250\" style=\"fill: none; stroke: #ddd; stroke-width: 1; opacity: 1;\"></line><line transform=\"translate(246,-250)\" x2=\"0\" y2=\"250\" style=\"fill: none; stroke: #ddd; stroke-width: 1; opacity: 1;\"></line><line transform=\"translate(281,-250)\" x2=\"0\" y2=\"250\" style=\"fill: none; stroke: #ddd; stroke-width: 1; opacity: 1;\"></line><line transform=\"translate(317,-250)\" x2=\"0\" y2=\"250\" style=\"fill: none; stroke: #ddd; stroke-width: 1; opacity: 1;\"></line></g></g></g></g><g class=\"mark-group role-axis\"><g transform=\"translate(0.5,0.5)\"><path class=\"background\" d=\"M0,0h0v0h0Z\" style=\"pointer-events: none; fill: none;\"></path><g><g class=\"mark-rule role-axis-grid\" style=\"pointer-events: none;\"><line transform=\"translate(0,250)\" x2=\"350\" y2=\"0\" style=\"fill: none; stroke: #ddd; stroke-width: 1; opacity: 1;\"></line><line transform=\"translate(0,219)\" x2=\"350\" y2=\"0\" style=\"fill: none; stroke: #ddd; stroke-width: 1; opacity: 1;\"></line><line transform=\"translate(0,188)\" x2=\"350\" y2=\"0\" style=\"fill: none; stroke: #ddd; stroke-width: 1; opacity: 1;\"></line><line transform=\"translate(0,156)\" x2=\"350\" y2=\"0\" style=\"fill: none; stroke: #ddd; stroke-width: 1; opacity: 1;\"></line><line transform=\"translate(0,125)\" x2=\"350\" y2=\"0\" style=\"fill: none; stroke: #ddd; stroke-width: 1; opacity: 1;\"></line><line transform=\"translate(0,94)\" x2=\"350\" y2=\"0\" style=\"fill: none; stroke: #ddd; stroke-width: 1; opacity: 1;\"></line><line transform=\"translate(0,63)\" x2=\"350\" y2=\"0\" style=\"fill: none; stroke: #ddd; stroke-width: 1; opacity: 1;\"></line><line transform=\"translate(0,31)\" x2=\"350\" y2=\"0\" style=\"fill: none; stroke: #ddd; stroke-width: 1; opacity: 1;\"></line><line transform=\"translate(0,0)\" x2=\"350\" y2=\"0\" style=\"fill: none; stroke: #ddd; stroke-width: 1; opacity: 1;\"></line></g></g></g></g><g class=\"mark-group role-scope child_pathgroup\"><g transform=\"translate(0,0)\"><path class=\"background\" d=\"M0,0h350v250h-350Z\" style=\"fill: none;\"></path><g><g class=\"mark-line role-mark child_marks\"><path d=\"M350,28.39174062500001L348.24239172307523,28.651618749999983L346.48478344615046,28.918187499999988L344.7223598040834,29.191515624999994L342.9647515271586,29.47167812500001L341.2071432502339,29.758740625L339.44953497330914,30.052774999999997L337.6871113312421,30.353856250000007L335.9295030543173,30.662053125L334.17189477739254,30.977440625000014L332.41428650046777,31.30009687500001L330.65186285840076,31.63009687500002L328.894254581476,31.967512500000026L327.1366463045512,32.312428125L325.3790380276264,32.66491562500002L323.6166143855594,33.02505937500004L321.8590061086346,33.392940624999994L320.1013978317099,33.76863750000001L318.34378955478513,34.152234375000006L316.58136591271807,34.54381250000003L314.8237576357933,34.94346250000001L313.06614935886853,35.35126875000003L311.30854108194376,35.76731250000003L309.54611743987675,36.1916875L307.7885091629519,36.62448125L306.03090088602715,37.0657875L304.2732926091024,37.515693750000025L302.5108689670354,37.97429062499998L300.7532606901106,38.44167812499998L298.99565241318584,38.91795000000002L297.23804413626107,39.403203125000005L295.47562049419406,39.897531250000014L293.7180122172693,40.4010375L291.9604039403445,40.913821875000025L290.20279566341975,41.435984374999975L288.4403720213527,41.96763125000004L286.6827637444279,42.508865625L284.92515546750315,43.05979375000001L283.16754719057843,43.62052187499998L281.40512354851137,44.19115937500001L279.6475152715866,44.771815625000016L277.8899069946618,45.36260625L276.13229871773706,45.96364375000002L274.36987507567005,46.575040625000014L272.6122667987453,47.196912500000025L270.85465852182045,47.82938124999998L269.0970502448957,48.47255312499999L267.3346266028287,49.12652187500004L265.5770183259039,49.79137812500002L263.81941004897914,50.467203125000026L262.06180177205437,51.15203124999999L260.2993781299873,51.84388125000001L258.5417698530626,52.542834374999984L256.7841615761378,53.248971874999995L255.02655329921302,53.96236562500002L253.26412965714601,54.68310625000001L251.50652138022124,55.41127187500001L249.74891310329645,56.146946875000026L247.99130482637167,56.89021875000003L246.22888118430464,57.64116875000002L244.47127290737987,58.39988437500003L242.71366463045513,59.166459375000045L240.95605635353036,59.94097500000001L239.19363271146335,60.723528125L237.43602443453855,61.51420625L235.67841615761378,62.313106250000004L233.920807880689,63.120321875L232.15838423862198,63.935943750000035L230.4007759616972,64.76007500000003L228.64316768477244,65.592809375L226.88555940784767,66.43424687499999L225.12313576578063,67.28449375L223.36552748885586,68.14364687500003L221.60791921193112,69.01180937500001L219.85031093500635,69.889090625L218.0878872929393,70.77559375000001L216.33027901601454,71.671428125L214.57267073908977,72.57670625L212.81506246216497,73.49153437500001L211.05263882009797,74.416028125L209.29503054317317,75.35030312499998L207.5374222662484,76.29447187500003L205.77981398932363,77.24865624999998L204.0173903472566,78.21297500000003L202.25978207033182,79.18755000000002L200.50217379340708,80.17250000000001L198.7445655164823,81.167953125L196.98214187441528,82.17403750000003L195.2245335974905,83.19087812500001L193.46692532056574,84.218609375L191.70931704364097,85.25735937500002L189.94689340157393,86.30726874999999L188.18928512464916,87.36846875L186.4316768477244,88.44110000000003L184.67406857079965,89.52530000000002L182.91164492873258,90.62121562499999L181.15403665180784,91.72896562500003L179.39642837488307,92.84864374999998L177.6388200979583,93.98032187500002L175.8812118210335,95.124075L174.12360354410876,96.27573125000004L172.365995267184,97.43109375L170.6083869902592,98.59019375L168.84596334819219,99.75307187500002L167.0883550712674,100.91975625L165.33074679434264,102.09028125000003L163.57313851741787,103.264671875L161.81071487535084,104.44293437500002L160.05310659842607,105.62506562500002L158.2954983215013,106.81105625000001L156.53789004457653,107.99865937499999L154.7754664025095,109.18561249999999L153.01785812558472,110.37187812500002L151.26024984865995,111.55743437500001L149.50264157173518,112.742246875L147.74021792966815,113.9262875L145.98260965274338,115.10953125L144.2250013758186,116.29195312500002L142.46739309889384,117.47355000000002L140.70496945682683,118.6543L138.94736117990203,119.83524687500002L137.18975290297726,121.01743125000002L135.43214462605252,122.20085312500001L133.66972098398546,123.38550937500001L131.91211270706071,124.57139687500002L130.15450443013592,125.75851562500002L128.39689615321115,126.94686250000001L126.63447251114412,128.136453125L124.87686423421937,129.32729375000002L123.1192559572946,130.519403125L121.36164768036981,131.71371562500002L119.5992240383028,132.91117500000001L117.84161576137802,134.11180625L116.08400748445325,135.315634375L114.32639920752848,136.52267812500003L112.56397556546146,137.73297187500003L110.80636728853668,138.94652812500001L109.0487590116119,140.1633625L107.29115073468715,141.3834875L105.5287270926201,142.606903125L103.77111881569535,143.83261562500002L102.01351053877057,145.059615625L100.25590226184579,146.28789999999998L98.49347861977877,147.51746250000002L96.73587034285399,148.74830624999998L94.97826206592923,149.98041875L93.22065378900446,151.213790625L91.45823014693744,152.44840625L89.70062187001265,153.684228125L87.94301359308788,154.921234375L86.18540531616313,156.158025L84.42298167409609,157.39320625L82.66537339717132,158.626725L80.90776512024654,159.8585375L79.15015684332178,161.088590625L77.38773320125475,162.316834375L75.63012492432998,163.54319687500004L73.8725166474052,164.76756562500003L72.11490837048044,165.98980625000002L70.35248472841342,167.20978125L68.59487645148863,168.422646875L66.83726817456386,169.623534375L65.0796598976391,170.81224062500002L63.31723625557206,171.98856875L61.5596279786473,173.15231562500003L59.80201970172253,174.30327812500002L58.04441142479775,175.44124375L56.28198778273073,176.566015625L54.52437950580595,177.67738125L52.76677122888118,178.775134375L51.00916295195642,179.859321875L49.246739309889385,180.929984375L47.489131032964615,181.986909375L45.73152275603984,183.029884375L43.973914479115074,184.0587L42.211490837048046,185.073134375L40.45388256012327,186.07296875L38.696274283198505,187.057953125L36.938666006273735,188.0278375L35.17624236420671,188.982365625L33.41863408728193,189.91948125L31.66102581035716,190.8371L29.903417533432393,191.734953125L28.140993891365365,192.612759375L26.38338561444059,193.4702375L24.62577733751582,194.307109375L22.868169060591054,195.1231125L21.105745418524023,195.91803125L19.348137141599253,196.69166875L17.59052886467448,197.443825L15.83292058774971,198.179071875L14.070496945682683,198.90232500000002L12.31288866875791,199.61366875000002L10.55528039183314,200.31278125L8.797672114908371,200.99976875L7.035248472841341,201.75080937500002L5.27764019591657,202.473275L3.5200319189918,203.159490625L1.76242364206703,203.92585L0,204.67821874999998\" style=\"fill: none; stroke: #f58518; stroke-width: 2;\"></path></g></g></g><g transform=\"translate(0,0)\"><path class=\"background\" d=\"M0,0h350v250h-350Z\" style=\"fill: none;\"></path><g><g class=\"mark-line role-mark child_marks\"><path d=\"M350,114.24252978152532L262.06180177205437,123.15780903502186L174.12360354410876,137.21978106748028L130.15450443013592,147.39365982505495L86.18540531616313,161.25771952905464L68.59487645148863,168.033361604123L51.00916295195642,175.4400920084208L33.41863408728193,183.42436385632664L15.83292058774971,191.9619178528436L14.070496945682683,192.8520048301665\" style=\"fill: none; stroke: #4c78a8; stroke-width: 2;\"></path></g></g></g></g><g class=\"mark-group role-axis\"><g transform=\"translate(0.5,0.5)\"><path class=\"background\" d=\"M0,0h0v0h0Z\" style=\"pointer-events: none; fill: none;\"></path><g><g class=\"mark-rule role-axis-tick\" style=\"pointer-events: none;\"><line transform=\"translate(0,250)\" x2=\"-5\" y2=\"0\" style=\"fill: none; stroke: #888; stroke-width: 1; opacity: 1;\"></line><line transform=\"translate(0,219)\" x2=\"-5\" y2=\"0\" style=\"fill: none; stroke: #888; stroke-width: 1; opacity: 1;\"></line><line transform=\"translate(0,188)\" x2=\"-5\" y2=\"0\" style=\"fill: none; stroke: #888; stroke-width: 1; opacity: 1;\"></line><line transform=\"translate(0,156)\" x2=\"-5\" y2=\"0\" style=\"fill: none; stroke: #888; stroke-width: 1; opacity: 1;\"></line><line transform=\"translate(0,125)\" x2=\"-5\" y2=\"0\" style=\"fill: none; stroke: #888; stroke-width: 1; opacity: 1;\"></line><line transform=\"translate(0,94)\" x2=\"-5\" y2=\"0\" style=\"fill: none; stroke: #888; stroke-width: 1; opacity: 1;\"></line><line transform=\"translate(0,63)\" x2=\"-5\" y2=\"0\" style=\"fill: none; stroke: #888; stroke-width: 1; opacity: 1;\"></line><line transform=\"translate(0,31)\" x2=\"-5\" y2=\"0\" style=\"fill: none; stroke: #888; stroke-width: 1; opacity: 1;\"></line><line transform=\"translate(0,0)\" x2=\"-5\" y2=\"0\" style=\"fill: none; stroke: #888; stroke-width: 1; opacity: 1;\"></line></g><g class=\"mark-text role-axis-label\" style=\"pointer-events: none;\"><text text-anchor=\"end\" transform=\"translate(-7,253)\" style=\"font: 10px sans-serif; fill: #000; opacity: 1;\">0.0</text><text text-anchor=\"end\" transform=\"translate(-7,221.75)\" style=\"font: 10px sans-serif; fill: #000; opacity: 1;\">0.1</text><text text-anchor=\"end\" transform=\"translate(-7,190.5)\" style=\"font: 10px sans-serif; fill: #000; opacity: 1;\">0.2</text><text text-anchor=\"end\" transform=\"translate(-7,159.25)\" style=\"font: 10px sans-serif; fill: #000; opacity: 1;\">0.3</text><text text-anchor=\"end\" transform=\"translate(-7,128)\" style=\"font: 10px sans-serif; fill: #000; opacity: 1;\">0.4</text><text text-anchor=\"end\" transform=\"translate(-7,96.75)\" style=\"font: 10px sans-serif; fill: #000; opacity: 1;\">0.5</text><text text-anchor=\"end\" transform=\"translate(-7,65.50000000000003)\" style=\"font: 10px sans-serif; fill: #000; opacity: 1;\">0.6</text><text text-anchor=\"end\" transform=\"translate(-7,34.25000000000003)\" style=\"font: 10px sans-serif; fill: #000; opacity: 1;\">0.7</text><text text-anchor=\"end\" transform=\"translate(-7,3)\" style=\"font: 10px sans-serif; fill: #000; opacity: 1;\">0.8</text></g><g class=\"mark-rule role-axis-domain\" style=\"pointer-events: none;\"><line transform=\"translate(0,250)\" x2=\"0\" y2=\"-250\" style=\"fill: none; stroke: #888; stroke-width: 1; opacity: 1;\"></line></g><g class=\"mark-text role-axis-title\" style=\"pointer-events: none;\"><text text-anchor=\"middle\" transform=\"translate(-36,125) rotate(-90) translate(0,-2)\" style=\"font: bold 11px sans-serif; fill: #000; opacity: 1;\">W/m²</text></g></g></g></g></g></g></g><g class=\"mark-group role-legend\"><g transform=\"translate(1197,0)\"><path class=\"background\" d=\"M0,0h132v43h-132Z\" style=\"pointer-events: none; fill: none;\"></path><g><g class=\"mark-group role-legend-entry\"><g transform=\"translate(0,16)\"><path class=\"background\" d=\"M0,0h0v0h0Z\" style=\"pointer-events: none; fill: none;\"></path><g><g class=\"mark-symbol role-legend-symbol\" style=\"pointer-events: none;\"><path transform=\"translate(5,5)\" d=\"M5,0A5,5,0,1,1,-5,0A5,5,0,1,1,5,0\" style=\"fill: none; stroke: #4c78a8; stroke-width: 1.5; opacity: 1;\"></path><path transform=\"translate(5,20)\" d=\"M5,0A5,5,0,1,1,-5,0A5,5,0,1,1,5,0\" style=\"fill: none; stroke: #f58518; stroke-width: 1.5; opacity: 1;\"></path></g><g class=\"mark-text role-legend-label\" style=\"pointer-events: none;\"><text text-anchor=\"start\" transform=\"translate(18,8)\" style=\"font: 10px sans-serif; fill: #000; opacity: 1;\">Mimi-Page-2009</text><text text-anchor=\"start\" transform=\"translate(18,23)\" style=\"font: 10px sans-serif; fill: #000; opacity: 1;\">RCP 8.5</text></g></g></g></g><g class=\"mark-text role-legend-title\" style=\"pointer-events: none;\"><text text-anchor=\"start\" transform=\"translate(0,9)\" style=\"font: bold 11px sans-serif; fill: #000; opacity: 1;\">Source</text></g></g></g></g></g></g></g></g></svg>"
      ],
      "text/plain": [
       "VegaLite.VLSpec{:plot}"
      ]
     },
     "execution_count": 9,
     "metadata": {},
     "output_type": "execute_result"
    }
   ],
   "source": [
    "df |>\n",
    "@filter(_.year > Date(2000) && _.year <= Date(2200)) |>\n",
    "@vlplot(\n",
    "    :line,\n",
    "    width=350, height=250,\n",
    "    x={\"year(year)\", title=\"year\"},\n",
    "    y={:value, title=\"W/m²\"},\n",
    "    column={\"variable:n\", title=\"\"},\n",
    "    color={:model, legend={title=\"Source\"}},\n",
    "    resolve={scale={y=:independent}}\n",
    ")"
   ]
  }
 ],
 "metadata": {
  "kernelspec": {
   "display_name": "Julia 0.6.3",
   "language": "julia",
   "name": "julia-0.6"
  },
  "language_info": {
   "file_extension": ".jl",
   "mimetype": "application/julia",
   "name": "julia",
   "version": "0.6.3"
  }
 },
 "nbformat": 4,
 "nbformat_minor": 2
}
