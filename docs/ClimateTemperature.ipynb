{
 "cells": [
  {
   "cell_type": "markdown",
   "metadata": {},
   "source": [
    "The `ClimateTemperature` component takes radiative forcing inputs and produces regional and global temperature."
   ]
  },
  {
   "cell_type": "code",
   "execution_count": 2,
   "metadata": {
    "collapsed": false
   },
   "outputs": [
    {
     "data": {
      "text/plain": [
       "run_timestep (generic function with 3 methods)"
      ]
     },
     "execution_count": 2,
     "metadata": {},
     "output_type": "execute_result"
    }
   ],
   "source": [
    "include(\"../src/ClimateTemperature.jl\")"
   ]
  },
  {
   "cell_type": "markdown",
   "metadata": {},
   "source": [
    "The inputs and outputs to the `ClimateComponent` are as follows:\n",
    "\n",
    "## Inputs\n",
    "| Parameter | Description | Units |\n",
    "| --- | --- | --- |\n",
    "| AREA [R] | Region area | km$^2$ |\n",
    "| Y [I] | Analysis year (including $Y_0$, the baseline year) | year |\n",
    "| SENS | Climate sensitivity for a doubling of CO$_2$ | °C |\n",
    "| OCEAN | Half life of global response to increased forcing | year |\n",
    "| FSLOPE | Slope of radiative forcing equation | W / m$^2$ |\n",
    "| FT [I] | Total forcing | W / m$^2$ |\n",
    "| FS [I, R] | Radiative forcing from sulphates | W / m$^2$ |\n",
    "\n",
    "## Outputs\n",
    "| Parameter | Description | Units |\n",
    "| --- | --- | --- |\n",
    "| ET [I] | Equilibrium temperature | °C |\n",
    "| RT [I, R] | Realised temperature | °C |\n",
    "| GRT [I] | Global realised temperature | °C |"
   ]
  },
  {
   "cell_type": "markdown",
   "metadata": {},
   "source": [
    "The ClimateComponent computes global realized temperature as follows (from Hope, 2006, equations 19-21):\n",
    "$$ET_{i,r} = \\frac{SENS}{ln(2)} \\frac{FT_i + FS_{i,r}}{FSLOPE}$$\n",
    "$$RT_{i,r} = RT_{i-1,r} + \\left(1 - e^\\frac{Y_i - Y_{i-1}}{OCEAN}\\right) (ET_{i,r} - RT_{i-1,r})$$\n",
    "$$GRT_i = \\frac{\\sum_r RT_{i,r} AREA_r}{\\sum_r AREA_r}$$"
   ]
  },
  {
   "cell_type": "code",
   "execution_count": null,
   "metadata": {
    "collapsed": true
   },
   "outputs": [],
   "source": []
  }
 ],
 "metadata": {
  "kernelspec": {
   "display_name": "Julia 0.4.0",
   "language": "julia",
   "name": "julia-0.4"
  },
  "language_info": {
   "file_extension": ".jl",
   "mimetype": "application/julia",
   "name": "julia",
   "version": "0.4.0"
  }
 },
 "nbformat": 4,
 "nbformat_minor": 0
}
